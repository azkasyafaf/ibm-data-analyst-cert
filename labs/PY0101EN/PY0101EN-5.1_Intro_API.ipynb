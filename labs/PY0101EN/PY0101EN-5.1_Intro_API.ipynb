{
 "cells": [
  {
   "cell_type": "markdown",
   "metadata": {},
   "source": [
    "<center>\n",
    "    <img src=\"https://s3-api.us-geo.objectstorage.softlayer.net/cf-courses-data/CognitiveClass/Logos/organization_logo/organization_logo.png\" width=\"300\" alt=\"cognitiveclass.ai logo\"  />\n",
    "</center>\n",
    "\n",
    "# Application Programming Interface\n",
    "\n",
    "Estimated time needed: **15** minutes\n",
    "\n",
    "## Objectives\n",
    "\n",
    "After completing this lab you will be able to:\n",
    "\n",
    "-   Create and Use APIs in Python\n"
   ]
  },
  {
   "cell_type": "markdown",
   "metadata": {},
   "source": [
    "### Introduction\n",
    "\n",
    "An API lets two pieces of software talk to each other. Just like a function,  you don’t have to know how the API works only its inputs and outputs.  An essential type of API is a REST API that allows you to access resources via the internet. In this lab, we will review the Pandas Library  in the context of an API, we will also review a basic REST API  \n"
   ]
  },
  {
   "cell_type": "markdown",
   "metadata": {},
   "source": [
    "## Table of Contents\n",
    "\n",
    "<div class=\"alert alert-block alert-info\" style=\"margin-top: 20px\">\n",
    "<li><a href=\"#ref0\">Pandas is an API</a></li>\n",
    "<li><a href=\"#ref1\">REST APIs Basics  </a></li>\n",
    "<li><a href=\"#ref2\">Quiz on Tuples</a></li>\n",
    "\n",
    "</div>\n",
    "\n",
    "<hr>\n"
   ]
  },
  {
   "cell_type": "code",
   "execution_count": 15,
   "metadata": {
    "collapsed": false,
    "jupyter": {
     "outputs_hidden": false
    }
   },
   "outputs": [
    {
     "name": "stdout",
     "output_type": "stream",
     "text": [
      "Requirement already satisfied: pycoingecko in /home/jupyterlab/conda/envs/python/lib/python3.6/site-packages (1.4.0)\n",
      "Requirement already satisfied: requests in /home/jupyterlab/conda/envs/python/lib/python3.6/site-packages (from pycoingecko) (2.25.0)\n",
      "Requirement already satisfied: chardet<4,>=3.0.2 in /home/jupyterlab/conda/envs/python/lib/python3.6/site-packages (from requests->pycoingecko) (3.0.4)\n",
      "Requirement already satisfied: urllib3<1.27,>=1.21.1 in /home/jupyterlab/conda/envs/python/lib/python3.6/site-packages (from requests->pycoingecko) (1.25.11)\n",
      "Requirement already satisfied: certifi>=2017.4.17 in /home/jupyterlab/conda/envs/python/lib/python3.6/site-packages (from requests->pycoingecko) (2020.12.5)\n",
      "Requirement already satisfied: idna<3,>=2.5 in /home/jupyterlab/conda/envs/python/lib/python3.6/site-packages (from requests->pycoingecko) (2.10)\n",
      "Requirement already satisfied: plotly in /home/jupyterlab/conda/envs/python/lib/python3.6/site-packages (4.14.1)\n",
      "Requirement already satisfied: retrying>=1.3.3 in /home/jupyterlab/conda/envs/python/lib/python3.6/site-packages (from plotly) (1.3.3)\n",
      "Requirement already satisfied: six in /home/jupyterlab/conda/envs/python/lib/python3.6/site-packages (from plotly) (1.15.0)\n",
      "Requirement already satisfied: mplfinance in /home/jupyterlab/conda/envs/python/lib/python3.6/site-packages (0.12.7a7)\n",
      "Requirement already satisfied: pandas in /home/jupyterlab/conda/envs/python/lib/python3.6/site-packages (from mplfinance) (1.1.5)\n",
      "Requirement already satisfied: matplotlib in /home/jupyterlab/conda/envs/python/lib/python3.6/site-packages (from mplfinance) (3.3.3)\n",
      "Requirement already satisfied: pytz>=2017.2 in /home/jupyterlab/conda/envs/python/lib/python3.6/site-packages (from pandas->mplfinance) (2020.4)\n",
      "Requirement already satisfied: python-dateutil>=2.7.3 in /home/jupyterlab/conda/envs/python/lib/python3.6/site-packages (from pandas->mplfinance) (2.8.1)\n",
      "Requirement already satisfied: numpy>=1.15.4 in /home/jupyterlab/conda/envs/python/lib/python3.6/site-packages (from pandas->mplfinance) (1.19.4)\n",
      "Requirement already satisfied: pyparsing!=2.0.4,!=2.1.2,!=2.1.6,>=2.0.3 in /home/jupyterlab/conda/envs/python/lib/python3.6/site-packages (from matplotlib->mplfinance) (2.4.7)\n",
      "Requirement already satisfied: pillow>=6.2.0 in /home/jupyterlab/conda/envs/python/lib/python3.6/site-packages (from matplotlib->mplfinance) (8.0.1)\n",
      "Requirement already satisfied: kiwisolver>=1.0.1 in /home/jupyterlab/conda/envs/python/lib/python3.6/site-packages (from matplotlib->mplfinance) (1.3.1)\n",
      "Requirement already satisfied: cycler>=0.10 in /home/jupyterlab/conda/envs/python/lib/python3.6/site-packages (from matplotlib->mplfinance) (0.10.0)\n",
      "Requirement already satisfied: six>=1.5 in /home/jupyterlab/conda/envs/python/lib/python3.6/site-packages (from python-dateutil>=2.7.3->pandas->mplfinance) (1.15.0)\n"
     ]
    }
   ],
   "source": [
    "!pip install pycoingecko\n",
    "!pip install plotly\n",
    "!pip install mplfinance"
   ]
  },
  {
   "cell_type": "markdown",
   "metadata": {},
   "source": [
    "<h2 id=\"PandasAPI\">Pandas is an API </h2>\n"
   ]
  },
  {
   "cell_type": "markdown",
   "metadata": {},
   "source": [
    "Pandas is actually set of software components , much of  which is not even written in Python.\n"
   ]
  },
  {
   "cell_type": "code",
   "execution_count": 3,
   "metadata": {
    "collapsed": false,
    "jupyter": {
     "outputs_hidden": false
    }
   },
   "outputs": [],
   "source": [
    "import pandas as pd\n",
    "import numpy as np\n",
    "import plotly.graph_objects as go\n",
    "from plotly.offline import plot\n",
    "import matplotlib.pyplot as plt\n",
    "import datetime\n",
    "from pycoingecko import CoinGeckoAPI\n",
    "from mplfinance.original_flavor import candlestick2_ohlc"
   ]
  },
  {
   "cell_type": "markdown",
   "metadata": {},
   "source": [
    "You create a dictionary, this is just data.\n"
   ]
  },
  {
   "cell_type": "code",
   "execution_count": 4,
   "metadata": {
    "collapsed": false,
    "jupyter": {
     "outputs_hidden": false
    }
   },
   "outputs": [],
   "source": [
    "dict_={'a':[11,21,31],'b':[12,22,32]}"
   ]
  },
  {
   "cell_type": "markdown",
   "metadata": {},
   "source": [
    "When you create a Pandas object with the Dataframe constructor in API lingo, this is an \"instance\". The data in the dictionary is passed along to the pandas API. You then use the dataframe to communicate with the API.\n"
   ]
  },
  {
   "cell_type": "code",
   "execution_count": 5,
   "metadata": {
    "collapsed": false,
    "jupyter": {
     "outputs_hidden": false
    }
   },
   "outputs": [
    {
     "data": {
      "text/plain": [
       "pandas.core.frame.DataFrame"
      ]
     },
     "execution_count": 5,
     "metadata": {},
     "output_type": "execute_result"
    }
   ],
   "source": [
    "df=pd.DataFrame(dict_)\n",
    "type(df)"
   ]
  },
  {
   "cell_type": "markdown",
   "metadata": {},
   "source": [
    "<img src = \"https://s3-api.us-geo.objectstorage.softlayer.net/cf-courses-data/CognitiveClass/PY0101EN/Chapter%206/images/pandas_api.png\" width = 800, align = \"center\" alt=\"logistic regression block diagram\" />\n"
   ]
  },
  {
   "cell_type": "markdown",
   "metadata": {},
   "source": [
    "When you call the method head the dataframe communicates with the API displaying the first few rows of the dataframe.\n"
   ]
  },
  {
   "cell_type": "code",
   "execution_count": 6,
   "metadata": {
    "collapsed": false,
    "jupyter": {
     "outputs_hidden": false
    }
   },
   "outputs": [
    {
     "data": {
      "text/html": [
       "<div>\n",
       "<style scoped>\n",
       "    .dataframe tbody tr th:only-of-type {\n",
       "        vertical-align: middle;\n",
       "    }\n",
       "\n",
       "    .dataframe tbody tr th {\n",
       "        vertical-align: top;\n",
       "    }\n",
       "\n",
       "    .dataframe thead th {\n",
       "        text-align: right;\n",
       "    }\n",
       "</style>\n",
       "<table border=\"1\" class=\"dataframe\">\n",
       "  <thead>\n",
       "    <tr style=\"text-align: right;\">\n",
       "      <th></th>\n",
       "      <th>a</th>\n",
       "      <th>b</th>\n",
       "    </tr>\n",
       "  </thead>\n",
       "  <tbody>\n",
       "    <tr>\n",
       "      <th>0</th>\n",
       "      <td>11</td>\n",
       "      <td>12</td>\n",
       "    </tr>\n",
       "    <tr>\n",
       "      <th>1</th>\n",
       "      <td>21</td>\n",
       "      <td>22</td>\n",
       "    </tr>\n",
       "    <tr>\n",
       "      <th>2</th>\n",
       "      <td>31</td>\n",
       "      <td>32</td>\n",
       "    </tr>\n",
       "  </tbody>\n",
       "</table>\n",
       "</div>"
      ],
      "text/plain": [
       "    a   b\n",
       "0  11  12\n",
       "1  21  22\n",
       "2  31  32"
      ]
     },
     "execution_count": 6,
     "metadata": {},
     "output_type": "execute_result"
    }
   ],
   "source": [
    "df.head()"
   ]
  },
  {
   "cell_type": "markdown",
   "metadata": {},
   "source": [
    "When you call the method mean,the API will calculate the mean and return the value.\n"
   ]
  },
  {
   "cell_type": "code",
   "execution_count": 7,
   "metadata": {
    "collapsed": false,
    "jupyter": {
     "outputs_hidden": false
    }
   },
   "outputs": [
    {
     "data": {
      "text/plain": [
       "a    21.0\n",
       "b    22.0\n",
       "dtype: float64"
      ]
     },
     "execution_count": 7,
     "metadata": {},
     "output_type": "execute_result"
    }
   ],
   "source": [
    "df.mean()"
   ]
  },
  {
   "cell_type": "markdown",
   "metadata": {},
   "source": [
    "<h2 id=\"ref1\">REST APIs</h2>\n"
   ]
  },
  {
   "cell_type": "markdown",
   "metadata": {},
   "source": [
    "Rest API’s function by sending a request,  the request is communicated via HTTP message. The HTTP message usually contains a JSON file. This contains instructions for what operation we would like the service or resource to perform. In a similar manner, API returns a response, via an HTTP message, this response is usually contained within a JSON.\n",
    "\n",
    "In cryptocurrency a popular method to display the movements of the price of a currency.\n",
    "\n",
    "![Example Candlestick Graph](https://cf-courses-data.s3.us.cloud-object-storage.appdomain.cloud/IBMDeveloperSkillsNetwork-PY0101EN-SkillsNetwork/labs/Module%205/candlestick.png)\n",
    "\n",
    "Here is a description of the candle sticks.\n",
    "\n",
    "<img src=\"https://cf-courses-data.s3.us.cloud-object-storage.appdomain.cloud/IBMDeveloperSkillsNetwork-PY0101EN-SkillsNetwork/labs/Module%205/explanation.png\" alt=\"Candle Stick Definition\" width=\"800\" height=\"600\">\n",
    "\n",
    "In this lab, we will be using the <a href=https://www.coingecko.com/en/api>CoinGecko API</a> to create one of these candlestick graphs for Bitcoin. We will use the API to get the price data for 30 days with 24 observation per day, 1 per hour. We will find the max, min, open, and close price per day meaning we will have 30 candlesticks and use that to generate the candlestick graph. Although we are using the CoinGecko API we will use a Python client/wrapper for the API called <a href=https://github.com/man-c/pycoingecko>PyCoinGecko</a>. PyCoinGecko will make performing the requests easy and it will deal with the enpoint targeting.\n"
   ]
  },
  {
   "cell_type": "markdown",
   "metadata": {},
   "source": [
    "Lets start off by getting the data we need. Using the <code>get_coin_market_chart_by_id(id, vs_currency, days)</code>. <code>id</code> is the name of the coin you want, <code>vs_currency</code> is the currency you want the price in, and <code>days</code> is how many days back from today you want.\n"
   ]
  },
  {
   "cell_type": "code",
   "execution_count": 8,
   "metadata": {},
   "outputs": [],
   "source": [
    "cg = CoinGeckoAPI()\n",
    "\n",
    "bitcoin_data = cg.get_coin_market_chart_by_id(id='bitcoin', vs_currency='usd', days=30)"
   ]
  },
  {
   "cell_type": "code",
   "execution_count": 9,
   "metadata": {},
   "outputs": [
    {
     "data": {
      "text/plain": [
       "dict"
      ]
     },
     "execution_count": 9,
     "metadata": {},
     "output_type": "execute_result"
    }
   ],
   "source": [
    "type(bitcoin_data )"
   ]
  },
  {
   "cell_type": "markdown",
   "metadata": {},
   "source": [
    "The response we get is in the form of a JSON which includes the price, market caps, and total volumes along with timestamps for each observation. We are focused on the prices so we will select that data.\n"
   ]
  },
  {
   "cell_type": "code",
   "execution_count": 10,
   "metadata": {},
   "outputs": [
    {
     "data": {
      "text/plain": [
       "[[1611734685810, 31849.931542834387],\n",
       " [1611739701968, 31017.131615754497],\n",
       " [1611741267212, 31243.944906090044],\n",
       " [1611744011510, 31428.110394074894],\n",
       " [1611745466022, 31269.40677186956]]"
      ]
     },
     "execution_count": 10,
     "metadata": {},
     "output_type": "execute_result"
    }
   ],
   "source": [
    "bitcoin_price_data = bitcoin_data['prices']\n",
    "\n",
    "bitcoin_price_data[0:5]"
   ]
  },
  {
   "cell_type": "markdown",
   "metadata": {},
   "source": [
    "Finally lets turn this data into a Pandas DataFrame.\n"
   ]
  },
  {
   "cell_type": "code",
   "execution_count": 11,
   "metadata": {},
   "outputs": [],
   "source": [
    "data = pd.DataFrame(bitcoin_price_data, columns=['TimeStamp', 'Price'])"
   ]
  },
  {
   "cell_type": "markdown",
   "metadata": {},
   "source": [
    "Now that we have the DataFrame we will convert the timestamp to datetime and save it as a column called <code>Date</code>. We will map our <code>unix_to_datetime</code> to each timestamp and convert it to a readable datetime.\n"
   ]
  },
  {
   "cell_type": "code",
   "execution_count": 12,
   "metadata": {},
   "outputs": [],
   "source": [
    "data['Date'] = pd.to_datetime(data['TimeStamp'], unit='ms')"
   ]
  },
  {
   "cell_type": "markdown",
   "metadata": {},
   "source": [
    "Using this modified dataset we can now group by the <code>Date</code> and find the min, max, open, and close for the candlesticks.\n"
   ]
  },
  {
   "cell_type": "code",
   "execution_count": 13,
   "metadata": {},
   "outputs": [],
   "source": [
    "candlestick_data = data.groupby(data.Date.dt.date, as_index=False).agg({\"Price\": ['min', 'max', 'first', 'last']})"
   ]
  },
  {
   "cell_type": "markdown",
   "metadata": {},
   "source": [
    "Finally we are now ready to use plotly to create our Candlestick Chart.\n"
   ]
  },
  {
   "cell_type": "code",
   "execution_count": 16,
   "metadata": {},
   "outputs": [],
   "source": [
    "fig = go.Figure(data=[go.Candlestick(x=data['Date'],\n",
    "                open=candlestick_data['Price']['first'], \n",
    "                high=candlestick_data['Price']['max'],\n",
    "                low=candlestick_data['Price']['min'], \n",
    "                close=candlestick_data['Price']['last'])\n",
    "                ])\n",
    "\n"
   ]
  },
  {
   "cell_type": "markdown",
   "metadata": {},
   "source": [
    " <a href=\"https://cloud.ibm.com/catalog/services/watson-studio\"><img src = \"https://ibm.box.com/shared/static/irypdxea2q4th88zu1o1tsd06dya10go.png\" width = 750, align = \"center\"></a>\n"
   ]
  },
  {
   "cell_type": "markdown",
   "metadata": {},
   "source": [
    "## Authors:\n",
    "\n",
    "## Change Log\n",
    "\n",
    "| Date (YYYY-MM-DD) | Version | Changed By    | Change Description                 |\n",
    "| ----------------- | ------- | ------------- | ---------------------------------- |\n",
    "| 2020-11-23        | 3.0     | Azim Hirjani  | New API                            |\n",
    "| 2020-09-09        | 2.1     | Malika Singla | Spell Check                        |\n",
    "| 2020-08-26        | 2.0     | Lavanya       | Moved lab to course repo in GitLab |\n",
    "|                   |         |               |                                    |\n",
    "\n",
    "<hr/>\n",
    "\n",
    "## <h3 align=\"center\"> © IBM Corporation 2020. All rights reserved. <h3/>\n"
   ]
  },
  {
   "cell_type": "code",
   "execution_count": 17,
   "metadata": {},
   "outputs": [
    {
     "data": {
      "application/vnd.plotly.v1+json": {
       "config": {
        "plotlyServerURL": "https://plot.ly"
       },
       "data": [
        {
         "close": [
          30624.65494170474,
          33351.39764011169,
          34340.212459132264,
          34374.73259794369,
          32883.72101223779,
          33396.069558978226,
          35601.89057074735,
          37262.98829220119,
          37232.783759370024,
          37865.37185426464,
          39950.31037221073,
          38742.668687007754,
          44826.28750547821,
          46848.85419935941,
          45054.239036355364,
          47499.27660080816,
          47694.83316871613,
          46998.96059525472,
          49082.8059943863,
          48247.94545823356,
          49157.713605124474,
          52115.160034438544,
          51834.34543644542,
          55681.23038910506,
          55525.62300290166,
          57447.58722000145,
          54343.14158403225,
          48716.90379287523,
          49023.95828746365,
          48267.660619479444,
          44774.80566283599
         ],
         "high": [
          31849.931542834387,
          33351.39764011169,
          38429.22726017632,
          34685.01073480113,
          34150.35944817495,
          34541.98958163351,
          35794.22510117993,
          37266.37798793092,
          38149.39559542189,
          38231.390721737356,
          40817.01467220043,
          39539.86404463179,
          44826.28750547821,
          48025.18236725473,
          46682.47286290658,
          47955.8815336257,
          48216.13437588234,
          47824.62281821764,
          49087.20681382356,
          48614.864701755476,
          49702.313299239046,
          52320.915246127704,
          52354.33106806803,
          55764.85129112884,
          57686.87048523401,
          58341.08047396216,
          57640.88905665459,
          54304.14245768419,
          51220.31692723462,
          51775.011918430224,
          47671.0461272975
         ],
         "low": [
          29559.86832490479,
          30537.06489727121,
          32200.730856163747,
          33237.570063076186,
          32400.172030590213,
          32595.697578914107,
          33423.24271066071,
          35477.931896359456,
          36543.386260317886,
          36841.82139551367,
          38250.33158170683,
          37815.85389172272,
          37964.986949126964,
          45279.29714416771,
          44283.558574113624,
          44187.55945071082,
          46716.564311380964,
          46296.60220783228,
          47007.26367365752,
          46770.02817531785,
          47806.49395997484,
          49195.06703693363,
          51391.90391143333,
          51197.179078766385,
          55525.62300290166,
          56017.33652151309,
          52529.20268518061,
          45680.43919795691,
          48274.802986996896,
          48267.660619479444,
          44774.80566283599
         ],
         "open": [
          31849.931542834387,
          30537.06489727121,
          33915.48701888487,
          34685.01073480113,
          34145.70091063483,
          33040.14248166375,
          33423.24271066071,
          35477.931896359456,
          37725.26455362201,
          36886.69324526582,
          38250.33158170683,
          38962.73218689435,
          38833.34026455532,
          47156.4327280836,
          46510.736783442466,
          44848.69344950499,
          47815.96175554316,
          47414.1862550079,
          47007.26367365752,
          48565.32288945199,
          47806.49395997484,
          49436.324978116914,
          52354.33106806803,
          51706.494971772256,
          56038.72775892988,
          56377.63347790987,
          57640.88905665459,
          54304.14245768419,
          48691.894831704405,
          49925.73871964238,
          46992.665450048495
         ],
         "type": "candlestick",
         "x": [
          "2021-01-27T08:04:45.810000",
          "2021-01-27T09:28:21.968000",
          "2021-01-27T09:54:27.212000",
          "2021-01-27T10:40:11.510000",
          "2021-01-27T11:04:26.022000",
          "2021-01-27T12:08:21.949000",
          "2021-01-27T13:04:26.081000",
          "2021-01-27T14:16:15.270000",
          "2021-01-27T15:06:49.510000",
          "2021-01-27T16:17:15.617000",
          "2021-01-27T17:07:27.219000",
          "2021-01-27T18:24:17.905000",
          "2021-01-27T19:05:12.851000",
          "2021-01-27T20:12:05.981000",
          "2021-01-27T21:12:07.554000",
          "2021-01-27T22:07:10.371000",
          "2021-01-27T23:09:23.796000",
          "2021-01-28T00:08:48.091000",
          "2021-01-28T01:35:24.203000",
          "2021-01-28T02:07:17.063000",
          "2021-01-28T03:12:27.135000",
          "2021-01-28T04:04:18.864000",
          "2021-01-28T05:12:57.503000",
          "2021-01-28T06:09:37.338000",
          "2021-01-28T07:09:20.016000",
          "2021-01-28T08:12:40.692000",
          "2021-01-28T09:14:14.811000",
          "2021-01-28T10:13:46.055000",
          "2021-01-28T11:03:20.125000",
          "2021-01-28T12:15:01.743000",
          "2021-01-28T13:06:28.946000",
          "2021-01-28T14:02:53.970000",
          "2021-01-28T15:19:06.824000",
          "2021-01-28T16:04:22.091000",
          "2021-01-28T17:06:28.680000",
          "2021-01-28T18:12:23.113000",
          "2021-01-28T19:19:06.421000",
          "2021-01-28T20:10:15.105000",
          "2021-01-28T21:10:40.965000",
          "2021-01-28T22:04:05.146000",
          "2021-01-28T23:11:17.356000",
          "2021-01-29T00:25:09.424000",
          "2021-01-29T01:13:14.545000",
          "2021-01-29T02:12:31.019000",
          "2021-01-29T03:18:34.932000",
          "2021-01-29T04:04:59.618000",
          "2021-01-29T05:19:29.178000",
          "2021-01-29T06:14:02.721000",
          "2021-01-29T07:14:33.154000",
          "2021-01-29T08:02:50.937000",
          "2021-01-29T09:12:59.675000",
          "2021-01-29T10:24:28.967000",
          "2021-01-29T11:06:39.068000",
          "2021-01-29T12:09:32.837000",
          "2021-01-29T13:07:24.696000",
          "2021-01-29T14:02:09.371000",
          "2021-01-29T15:04:42.041000",
          "2021-01-29T16:10:22.044000",
          "2021-01-29T17:08:34.831000",
          "2021-01-29T18:09:41.855000",
          "2021-01-29T19:13:33.742000",
          "2021-01-29T20:21:44.209000",
          "2021-01-29T21:14:51.434000",
          "2021-01-29T22:14:22.074000",
          "2021-01-29T23:04:30.043000",
          "2021-01-30T00:11:10.323000",
          "2021-01-30T01:05:11.120000",
          "2021-01-30T02:06:33.509000",
          "2021-01-30T03:18:08.403000",
          "2021-01-30T04:09:54.782000",
          "2021-01-30T05:21:36.130000",
          "2021-01-30T06:17:50.138000",
          "2021-01-30T07:12:29.765000",
          "2021-01-30T08:04:44.300000",
          "2021-01-30T09:21:47.760000",
          "2021-01-30T10:13:12.384000",
          "2021-01-30T11:04:29.516000",
          "2021-01-30T12:17:18.531000",
          "2021-01-30T13:39:12.689000",
          "2021-01-30T14:06:57.458000",
          "2021-01-30T15:03:10.350000",
          "2021-01-30T16:04:23.053000",
          "2021-01-30T17:12:58.328000",
          "2021-01-30T18:01:43.036000",
          "2021-01-30T19:08:04.101000",
          "2021-01-30T20:11:22.665000",
          "2021-01-30T21:12:04.259000",
          "2021-01-30T22:16:43.670000",
          "2021-01-30T23:13:19.570000",
          "2021-01-31T00:21:40.064000",
          "2021-01-31T01:35:04.278000",
          "2021-01-31T02:05:30.644000",
          "2021-01-31T03:03:59.146000",
          "2021-01-31T04:05:18.884000",
          "2021-01-31T05:12:14.853000",
          "2021-01-31T06:08:45.233000",
          "2021-01-31T07:04:04.038000",
          "2021-01-31T08:08:59.861000",
          "2021-01-31T09:15:12.522000",
          "2021-01-31T10:06:01.476000",
          "2021-01-31T11:02:01.087000",
          "2021-01-31T12:04:24.927000",
          "2021-01-31T13:38:16.734000",
          "2021-01-31T14:05:19.807000",
          "2021-01-31T15:06:35.331000",
          "2021-01-31T16:03:44.025000",
          "2021-01-31T17:07:07.540000",
          "2021-01-31T18:01:53.494000",
          "2021-01-31T19:08:22.533000",
          "2021-01-31T20:05:16.758000",
          "2021-01-31T21:04:03.549000",
          "2021-01-31T22:07:02.817000",
          "2021-01-31T23:03:03.788000",
          "2021-02-01T00:07:09.948000",
          "2021-02-01T01:24:01.986000",
          "2021-02-01T02:04:02.170000",
          "2021-02-01T03:11:48.803000",
          "2021-02-01T04:08:31.256000",
          "2021-02-01T05:13:51.307000",
          "2021-02-01T06:10:18.253000",
          "2021-02-01T07:17:26.975000",
          "2021-02-01T08:06:38.650000",
          "2021-02-01T09:12:45.866000",
          "2021-02-01T10:05:05.186000",
          "2021-02-01T11:09:09.436000",
          "2021-02-01T12:12:46.411000",
          "2021-02-01T13:33:41.253000",
          "2021-02-01T14:04:51.819000",
          "2021-02-01T15:11:38.820000",
          "2021-02-01T16:08:53.059000",
          "2021-02-01T17:10:09.001000",
          "2021-02-01T18:04:27.780000",
          "2021-02-01T19:06:45.597000",
          "2021-02-01T20:01:20.711000",
          "2021-02-01T21:12:11.294000",
          "2021-02-01T22:02:40.186000",
          "2021-02-01T23:05:53.709000",
          "2021-02-02T00:06:22.876000",
          "2021-02-02T01:06:17.733000",
          "2021-02-02T02:04:01.081000",
          "2021-02-02T03:05:12.205000",
          "2021-02-02T04:04:16.295000",
          "2021-02-02T05:11:23.365000",
          "2021-02-02T06:03:50.994000",
          "2021-02-02T07:06:33.769000",
          "2021-02-02T08:11:23.919000",
          "2021-02-02T09:01:09.582000",
          "2021-02-02T10:07:09.477000",
          "2021-02-02T11:10:23.036000",
          "2021-02-02T12:10:07.799000",
          "2021-02-02T13:04:15.026000",
          "2021-02-02T14:02:03.660000",
          "2021-02-02T15:06:31.788000",
          "2021-02-02T16:06:49.930000",
          "2021-02-02T17:01:45.755000",
          "2021-02-02T18:03:06.105000",
          "2021-02-02T19:04:43.424000",
          "2021-02-02T20:08:18.742000",
          "2021-02-02T21:05:41.569000",
          "2021-02-02T22:08:30.192000",
          "2021-02-02T23:10:01.256000",
          "2021-02-03T00:07:42.359000",
          "2021-02-03T01:05:34.056000",
          "2021-02-03T02:01:47.456000",
          "2021-02-03T03:07:38.972000",
          "2021-02-03T04:09:17.285000",
          "2021-02-03T05:06:29.638000",
          "2021-02-03T06:10:22.440000",
          "2021-02-03T07:03:38.762000",
          "2021-02-03T08:04:37.746000",
          "2021-02-03T09:12:19.938000",
          "2021-02-03T10:04:52.518000",
          "2021-02-03T11:11:25.227000",
          "2021-02-03T12:13:16.827000",
          "2021-02-03T13:07:25.075000",
          "2021-02-03T14:02:43.654000",
          "2021-02-03T15:04:47.845000",
          "2021-02-03T16:04:09.031000",
          "2021-02-03T17:02:37.227000",
          "2021-02-03T18:13:31.552000",
          "2021-02-03T19:09:26.139000",
          "2021-02-03T20:12:21.830000",
          "2021-02-03T21:11:46.861000",
          "2021-02-03T22:09:40.167000",
          "2021-02-03T23:03:30.177000",
          "2021-02-04T00:06:52.982000",
          "2021-02-04T01:07:09.985000",
          "2021-02-04T02:01:43.782000",
          "2021-02-04T03:06:31.776000",
          "2021-02-04T04:14:44.156000",
          "2021-02-04T05:08:37.007000",
          "2021-02-04T06:06:09.656000",
          "2021-02-04T07:03:27.687000",
          "2021-02-04T08:03:24.629000",
          "2021-02-04T09:11:10.184000",
          "2021-02-04T10:12:14.398000",
          "2021-02-04T11:06:35.036000",
          "2021-02-04T12:05:34.409000",
          "2021-02-04T13:05:36.115000",
          "2021-02-04T14:05:48.350000",
          "2021-02-04T15:10:21.391000",
          "2021-02-04T16:02:41.962000",
          "2021-02-04T17:13:56.542000",
          "2021-02-04T18:12:43.042000",
          "2021-02-04T19:08:37.529000",
          "2021-02-04T20:08:03.209000",
          "2021-02-04T21:04:28.849000",
          "2021-02-04T22:05:34.705000",
          "2021-02-04T23:10:15.852000",
          "2021-02-05T00:12:17.332000",
          "2021-02-05T01:27:40.591000",
          "2021-02-05T02:04:32.491000",
          "2021-02-05T03:12:25.546000",
          "2021-02-05T04:06:35.269000",
          "2021-02-05T05:13:27.585000",
          "2021-02-05T06:08:50.241000",
          "2021-02-05T07:05:48.332000",
          "2021-02-05T08:13:28.972000",
          "2021-02-05T09:09:30.522000",
          "2021-02-05T10:04:42.067000",
          "2021-02-05T11:05:22.966000",
          "2021-02-05T12:06:54.996000",
          "2021-02-05T13:03:32.292000",
          "2021-02-05T14:09:28.383000",
          "2021-02-05T15:08:12.827000",
          "2021-02-05T16:12:26.809000",
          "2021-02-05T17:05:31.089000",
          "2021-02-05T18:16:09.992000",
          "2021-02-05T19:13:36.426000",
          "2021-02-05T20:09:37.514000",
          "2021-02-05T21:12:33.794000",
          "2021-02-05T22:18:04.104000",
          "2021-02-05T23:02:42.396000",
          "2021-02-06T00:07:33.478000",
          "2021-02-06T01:23:40.037000",
          "2021-02-06T02:05:06.597000",
          "2021-02-06T03:07:18.242000",
          "2021-02-06T04:07:56.890000",
          "2021-02-06T05:05:23.884000",
          "2021-02-06T06:03:13.354000",
          "2021-02-06T07:14:54.359000",
          "2021-02-06T08:08:35.746000",
          "2021-02-06T09:14:08.669000",
          "2021-02-06T10:05:19.075000",
          "2021-02-06T11:12:42.121000",
          "2021-02-06T12:05:23.590000",
          "2021-02-06T13:27:18.306000",
          "2021-02-06T14:11:21.813000",
          "2021-02-06T15:06:09.928000",
          "2021-02-06T16:07:29.448000",
          "2021-02-06T17:13:45.932000",
          "2021-02-06T18:12:34.420000",
          "2021-02-06T19:01:51.895000",
          "2021-02-06T20:15:24.386000",
          "2021-02-06T21:02:00.123000",
          "2021-02-06T22:23:37.650000",
          "2021-02-06T23:03:19.997000",
          "2021-02-07T00:13:48.461000",
          "2021-02-07T01:09:28.684000",
          "2021-02-07T02:02:56.565000",
          "2021-02-07T03:05:01.781000",
          "2021-02-07T04:04:33.736000",
          "2021-02-07T05:05:26.319000",
          "2021-02-07T06:04:37.556000",
          "2021-02-07T07:03:18.152000",
          "2021-02-07T08:05:32.073000",
          "2021-02-07T09:10:44.975000",
          "2021-02-07T10:04:24.711000",
          "2021-02-07T11:15:57.254000",
          "2021-02-07T12:00:45.321000",
          "2021-02-07T13:25:08.762000",
          "2021-02-07T14:01:22.313000",
          "2021-02-07T15:04:28.738000",
          "2021-02-07T16:01:37.780000",
          "2021-02-07T17:07:13.453000",
          "2021-02-07T18:05:20.990000",
          "2021-02-07T19:06:22.549000",
          "2021-02-07T20:01:22.223000",
          "2021-02-07T21:25:33.703000",
          "2021-02-07T22:14:12.116000",
          "2021-02-07T23:04:13.909000",
          "2021-02-08T00:03:57.544000",
          "2021-02-08T01:04:18.646000",
          "2021-02-08T02:08:11.438000",
          "2021-02-08T03:10:48.814000",
          "2021-02-08T04:03:14.938000",
          "2021-02-08T05:07:00.426000",
          "2021-02-08T06:07:07.895000",
          "2021-02-08T07:08:31.458000",
          "2021-02-08T08:08:02.459000",
          "2021-02-08T09:01:22.036000",
          "2021-02-08T10:13:58.397000",
          "2021-02-08T11:14:24.722000",
          "2021-02-08T12:15:45.212000",
          "2021-02-08T13:37:25.799000",
          "2021-02-08T14:04:25.137000",
          "2021-02-08T15:09:51.168000",
          "2021-02-08T16:06:31.003000",
          "2021-02-08T17:02:31.223000",
          "2021-02-08T18:18:59.501000",
          "2021-02-08T19:18:29.403000",
          "2021-02-08T20:04:25.466000",
          "2021-02-08T21:08:47.757000",
          "2021-02-08T22:00:37.297000",
          "2021-02-08T23:11:46.961000",
          "2021-02-09T00:13:23.656000",
          "2021-02-09T01:36:58.589000",
          "2021-02-09T02:06:43.544000",
          "2021-02-09T03:06:23.775000",
          "2021-02-09T04:09:48.960000",
          "2021-02-09T05:09:39.553000",
          "2021-02-09T06:08:39.179000",
          "2021-02-09T07:07:01.502000",
          "2021-02-09T08:08:19.485000",
          "2021-02-09T09:07:54.390000",
          "2021-02-09T10:04:52.658000",
          "2021-02-09T11:06:28.227000",
          "2021-02-09T12:05:59.908000",
          "2021-02-09T13:04:24.094000",
          "2021-02-09T14:02:48.185000",
          "2021-02-09T15:06:38.085000",
          "2021-02-09T16:11:19.759000",
          "2021-02-09T17:03:47.739000",
          "2021-02-09T18:07:38.547000",
          "2021-02-09T19:13:27.828000",
          "2021-02-09T20:07:17.619000",
          "2021-02-09T21:13:16.693000",
          "2021-02-09T22:07:07.592000",
          "2021-02-09T23:04:38.697000",
          "2021-02-10T00:06:07.533000",
          "2021-02-10T01:28:52.186000",
          "2021-02-10T02:09:45.891000",
          "2021-02-10T03:09:32.715000",
          "2021-02-10T04:09:33.585000",
          "2021-02-10T05:11:41.219000",
          "2021-02-10T06:04:52.482000",
          "2021-02-10T07:00:43.022000",
          "2021-02-10T08:16:30.372000",
          "2021-02-10T09:08:51.502000",
          "2021-02-10T10:07:09.146000",
          "2021-02-10T11:14:47.496000",
          "2021-02-10T12:07:46.923000",
          "2021-02-10T13:01:27.469000",
          "2021-02-10T14:10:16.258000",
          "2021-02-10T15:12:11.064000",
          "2021-02-10T16:02:06.538000",
          "2021-02-10T17:00:41.129000",
          "2021-02-10T18:03:16.043000",
          "2021-02-10T19:02:38.913000",
          "2021-02-10T20:18:29.148000",
          "2021-02-10T21:03:12.669000",
          "2021-02-10T22:04:42.692000",
          "2021-02-10T23:13:37.387000",
          "2021-02-11T00:01:18.123000",
          "2021-02-11T01:02:09.744000",
          "2021-02-11T02:06:55.516000",
          "2021-02-11T03:02:03.611000",
          "2021-02-11T04:06:50.229000",
          "2021-02-11T05:07:53.793000",
          "2021-02-11T06:08:07.152000",
          "2021-02-11T07:06:34.036000",
          "2021-02-11T08:07:22.346000",
          "2021-02-11T09:12:12.699000",
          "2021-02-11T10:08:54.907000",
          "2021-02-11T11:02:31.779000",
          "2021-02-11T12:08:10.913000",
          "2021-02-11T13:38:20.498000",
          "2021-02-11T14:01:29.259000",
          "2021-02-11T15:04:44.379000",
          "2021-02-11T16:07:59.652000",
          "2021-02-11T17:10:07.770000",
          "2021-02-11T18:07:09.773000",
          "2021-02-11T19:09:44.348000",
          "2021-02-11T20:08:15.144000",
          "2021-02-11T21:09:58.773000",
          "2021-02-11T22:06:50.835000",
          "2021-02-11T23:01:44.706000",
          "2021-02-12T00:04:21.321000",
          "2021-02-12T01:24:16.641000",
          "2021-02-12T02:08:30.832000",
          "2021-02-12T03:05:23.062000",
          "2021-02-12T04:03:34.975000",
          "2021-02-12T05:04:11.185000",
          "2021-02-12T06:08:10.433000",
          "2021-02-12T07:07:04.046000",
          "2021-02-12T08:03:47.195000",
          "2021-02-12T09:10:00.175000",
          "2021-02-12T10:07:01.911000",
          "2021-02-12T11:11:14.354000",
          "2021-02-12T12:12:15.178000",
          "2021-02-12T13:02:15.240000",
          "2021-02-12T14:01:39.871000",
          "2021-02-12T15:13:09.885000",
          "2021-02-12T16:06:56.862000",
          "2021-02-12T17:04:43.699000",
          "2021-02-12T18:05:36.250000",
          "2021-02-12T19:08:37.782000",
          "2021-02-12T20:06:06.338000",
          "2021-02-12T21:01:54.420000",
          "2021-02-12T22:05:13.553000",
          "2021-02-12T23:10:59.433000",
          "2021-02-13T00:03:16.576000",
          "2021-02-13T01:31:02.870000",
          "2021-02-13T02:11:46.113000",
          "2021-02-13T03:09:32.023000",
          "2021-02-13T04:09:57.487000",
          "2021-02-13T05:09:48.839000",
          "2021-02-13T06:04:04.090000",
          "2021-02-13T07:09:15.990000",
          "2021-02-13T08:04:17.382000",
          "2021-02-13T09:02:09.906000",
          "2021-02-13T10:06:29.277000",
          "2021-02-13T11:08:38.926000",
          "2021-02-13T12:10:12.357000",
          "2021-02-13T13:04:45.632000",
          "2021-02-13T14:04:15.382000",
          "2021-02-13T15:04:50.089000",
          "2021-02-13T16:11:08.518000",
          "2021-02-13T17:05:05.851000",
          "2021-02-13T18:08:18.514000",
          "2021-02-13T19:04:14.006000",
          "2021-02-13T20:06:16.837000",
          "2021-02-13T21:04:17.033000",
          "2021-02-13T22:07:34.945000",
          "2021-02-13T23:07:42.027000",
          "2021-02-14T00:08:08.125000",
          "2021-02-14T01:29:56.351000",
          "2021-02-14T02:05:32.540000",
          "2021-02-14T03:06:32.236000",
          "2021-02-14T04:02:17.789000",
          "2021-02-14T05:10:44.617000",
          "2021-02-14T06:07:43.411000",
          "2021-02-14T07:10:52.327000",
          "2021-02-14T08:07:59.063000",
          "2021-02-14T09:06:48.456000",
          "2021-02-14T10:11:05.290000",
          "2021-02-14T11:12:01.782000",
          "2021-02-14T12:07:17.135000",
          "2021-02-14T13:33:38.035000",
          "2021-02-14T14:05:17.302000",
          "2021-02-14T15:02:45.762000",
          "2021-02-14T16:06:32.572000",
          "2021-02-14T17:13:47.422000",
          "2021-02-14T18:11:42.489000",
          "2021-02-14T19:08:43.808000",
          "2021-02-14T20:07:16.763000",
          "2021-02-14T21:05:03.477000",
          "2021-02-14T22:04:16.199000",
          "2021-02-14T23:04:50.689000",
          "2021-02-15T00:07:25.703000",
          "2021-02-15T01:29:59.087000",
          "2021-02-15T02:04:28.119000",
          "2021-02-15T03:11:46.017000",
          "2021-02-15T04:01:40.359000",
          "2021-02-15T05:04:49.602000",
          "2021-02-15T06:08:28.494000",
          "2021-02-15T07:14:17.020000",
          "2021-02-15T08:06:35.055000",
          "2021-02-15T09:10:22.091000",
          "2021-02-15T10:06:36.691000",
          "2021-02-15T11:01:59.233000",
          "2021-02-15T12:07:09.532000",
          "2021-02-15T13:33:15.288000",
          "2021-02-15T14:04:53.320000",
          "2021-02-15T15:03:07.429000",
          "2021-02-15T16:12:16.936000",
          "2021-02-15T17:09:47.406000",
          "2021-02-15T18:07:20.802000",
          "2021-02-15T19:05:49.902000",
          "2021-02-15T20:02:45.262000",
          "2021-02-15T21:08:00.887000",
          "2021-02-15T22:04:18.832000",
          "2021-02-15T23:13:15.726000",
          "2021-02-16T00:14:55.663000",
          "2021-02-16T01:29:59.237000",
          "2021-02-16T02:08:16.753000",
          "2021-02-16T03:04:31.468000",
          "2021-02-16T04:08:49.054000",
          "2021-02-16T05:09:28.660000",
          "2021-02-16T06:06:51.755000",
          "2021-02-16T07:10:21.936000",
          "2021-02-16T08:03:57.004000",
          "2021-02-16T09:03:50.100000",
          "2021-02-16T10:05:42.206000",
          "2021-02-16T11:04:41.796000",
          "2021-02-16T12:06:15.449000",
          "2021-02-16T13:04:11.716000",
          "2021-02-16T14:08:40.394000",
          "2021-02-16T15:08:53.513000",
          "2021-02-16T16:06:36.187000",
          "2021-02-16T17:06:23.564000",
          "2021-02-16T18:05:08.067000",
          "2021-02-16T19:04:47.028000",
          "2021-02-16T20:07:10.091000",
          "2021-02-16T21:07:16.878000",
          "2021-02-16T22:07:15.166000",
          "2021-02-16T23:09:17.198000",
          "2021-02-17T00:13:50.526000",
          "2021-02-17T01:36:30.789000",
          "2021-02-17T02:05:55.425000",
          "2021-02-17T03:03:20.106000",
          "2021-02-17T04:03:23.955000",
          "2021-02-17T05:03:44.492000",
          "2021-02-17T06:08:50.743000",
          "2021-02-17T07:00:06.966000",
          "2021-02-17T08:04:01.675000",
          "2021-02-17T09:17:10.856000",
          "2021-02-17T10:01:12.913000",
          "2021-02-17T11:09:16.700000",
          "2021-02-17T12:09:33.847000",
          "2021-02-17T13:33:33.999000",
          "2021-02-17T14:08:01.549000",
          "2021-02-17T15:06:20.983000",
          "2021-02-17T16:04:54.863000",
          "2021-02-17T17:07:40.433000",
          "2021-02-17T18:08:52.653000",
          "2021-02-17T19:12:28.890000",
          "2021-02-17T20:12:29.530000",
          "2021-02-17T21:18:31.889000",
          "2021-02-17T22:12:30.271000",
          "2021-02-17T23:04:28.815000",
          "2021-02-18T00:13:14.415000",
          "2021-02-18T01:33:05.108000",
          "2021-02-18T02:07:25.259000",
          "2021-02-18T03:06:34.403000",
          "2021-02-18T04:09:30.337000",
          "2021-02-18T05:17:19.029000",
          "2021-02-18T06:02:34.945000",
          "2021-02-18T07:08:06.763000",
          "2021-02-18T08:04:37.933000",
          "2021-02-18T09:05:00.452000",
          "2021-02-18T10:09:03.565000",
          "2021-02-18T11:01:38.361000",
          "2021-02-18T12:03:38.860000",
          "2021-02-18T13:02:15.817000",
          "2021-02-18T14:12:24.475000",
          "2021-02-18T15:04:24.863000",
          "2021-02-18T16:06:46.645000",
          "2021-02-18T17:16:46.868000",
          "2021-02-18T18:02:15.866000",
          "2021-02-18T19:05:15.642000",
          "2021-02-18T20:07:27.350000",
          "2021-02-18T21:01:31.940000",
          "2021-02-18T22:04:37.515000",
          "2021-02-18T23:02:00.460000",
          "2021-02-19T00:09:38.129000",
          "2021-02-19T01:28:40.455000",
          "2021-02-19T02:09:04.435000",
          "2021-02-19T03:04:46.586000",
          "2021-02-19T04:07:25.527000",
          "2021-02-19T05:04:22.500000",
          "2021-02-19T06:08:02.588000",
          "2021-02-19T07:08:37.700000",
          "2021-02-19T08:10:02.942000",
          "2021-02-19T09:07:44.423000",
          "2021-02-19T10:08:47.895000",
          "2021-02-19T11:11:14.024000",
          "2021-02-19T12:04:41.692000",
          "2021-02-19T13:45:00.296000",
          "2021-02-19T14:04:43.210000",
          "2021-02-19T15:06:59.892000",
          "2021-02-19T16:01:02.050000",
          "2021-02-19T17:05:05.164000",
          "2021-02-19T18:06:38.787000",
          "2021-02-19T19:04:10.467000",
          "2021-02-19T20:01:10.231000",
          "2021-02-19T21:07:12.112000",
          "2021-02-19T22:02:46.166000",
          "2021-02-19T23:03:13.250000",
          "2021-02-20T00:02:02.873000",
          "2021-02-20T01:13:20.642000",
          "2021-02-20T02:37:52.997000",
          "2021-02-20T03:25:15.498000",
          "2021-02-20T04:08:16.109000",
          "2021-02-20T05:09:07.673000",
          "2021-02-20T06:07:09.452000",
          "2021-02-20T07:01:36.100000",
          "2021-02-20T08:03:30.847000",
          "2021-02-20T09:07:19.253000",
          "2021-02-20T10:02:07.015000",
          "2021-02-20T11:08:50.158000",
          "2021-02-20T12:03:07.291000",
          "2021-02-20T13:04:45.927000",
          "2021-02-20T14:10:35.699000",
          "2021-02-20T15:05:43.956000",
          "2021-02-20T16:06:48.935000",
          "2021-02-20T17:11:54.010000",
          "2021-02-20T18:04:58.780000",
          "2021-02-20T19:03:00.325000",
          "2021-02-20T20:11:19.150000",
          "2021-02-20T21:04:47.386000",
          "2021-02-20T22:04:55.257000",
          "2021-02-20T23:08:07.329000",
          "2021-02-21T00:02:00.394000",
          "2021-02-21T01:05:07.433000",
          "2021-02-21T02:09:42.133000",
          "2021-02-21T03:05:24.056000",
          "2021-02-21T04:03:24.511000",
          "2021-02-21T05:02:24.862000",
          "2021-02-21T06:02:35.370000",
          "2021-02-21T07:06:45.210000",
          "2021-02-21T08:06:45.964000",
          "2021-02-21T09:05:20.195000",
          "2021-02-21T10:02:48.722000",
          "2021-02-21T11:05:28.156000",
          "2021-02-21T12:02:45.023000",
          "2021-02-21T13:02:37.772000",
          "2021-02-21T14:03:43.532000",
          "2021-02-21T15:05:24.575000",
          "2021-02-21T16:02:01.445000",
          "2021-02-21T17:09:14.729000",
          "2021-02-21T18:07:35.702000",
          "2021-02-21T19:01:02.108000",
          "2021-02-21T20:04:51.968000",
          "2021-02-21T21:01:20.774000",
          "2021-02-21T22:04:47.842000",
          "2021-02-21T23:06:51.612000",
          "2021-02-22T00:07:49.566000",
          "2021-02-22T01:03:43.863000",
          "2021-02-22T02:07:51.162000",
          "2021-02-22T03:04:34.686000",
          "2021-02-22T04:05:07.760000",
          "2021-02-22T05:07:10.689000",
          "2021-02-22T06:05:09.991000",
          "2021-02-22T07:06:42.557000",
          "2021-02-22T08:07:27.299000",
          "2021-02-22T09:05:08.194000",
          "2021-02-22T10:07:29.714000",
          "2021-02-22T11:18:54.541000",
          "2021-02-22T12:07:50.807000",
          "2021-02-22T13:02:15.367000",
          "2021-02-22T14:09:16.893000",
          "2021-02-22T15:09:00.853000",
          "2021-02-22T16:04:58.349000",
          "2021-02-22T17:05:06.721000",
          "2021-02-22T18:04:10.771000",
          "2021-02-22T19:08:53.858000",
          "2021-02-22T20:05:36.383000",
          "2021-02-22T21:05:24.780000",
          "2021-02-22T22:04:33.240000",
          "2021-02-22T23:08:38.856000",
          "2021-02-23T00:05:31.751000",
          "2021-02-23T01:06:22.489000",
          "2021-02-23T02:03:41.462000",
          "2021-02-23T03:01:13.263000",
          "2021-02-23T04:09:15.954000",
          "2021-02-23T05:09:26.775000",
          "2021-02-23T06:09:56.717000",
          "2021-02-23T07:05:23.249000",
          "2021-02-23T08:04:43.494000",
          "2021-02-23T09:06:47.048000",
          "2021-02-23T10:05:49.963000",
          "2021-02-23T11:04:29.629000",
          "2021-02-23T12:07:56.500000",
          "2021-02-23T13:06:43.384000",
          "2021-02-23T14:06:18.100000",
          "2021-02-23T15:08:04.745000",
          "2021-02-23T16:07:25.481000",
          "2021-02-23T17:09:22.701000",
          "2021-02-23T18:05:41.873000",
          "2021-02-23T19:07:13.898000",
          "2021-02-23T20:09:19.610000",
          "2021-02-23T21:01:57.561000",
          "2021-02-23T22:04:34.429000",
          "2021-02-23T23:01:29.219000",
          "2021-02-24T00:04:19.469000",
          "2021-02-24T01:04:42.367000",
          "2021-02-24T02:02:01.267000",
          "2021-02-24T03:06:26.515000",
          "2021-02-24T04:08:51.318000",
          "2021-02-24T05:06:50.916000",
          "2021-02-24T06:09:32.935000",
          "2021-02-24T07:08:28.742000",
          "2021-02-24T08:19:09.805000",
          "2021-02-24T09:09:50.982000",
          "2021-02-24T10:01:12.772000",
          "2021-02-24T11:07:21.674000",
          "2021-02-24T12:11:24.791000",
          "2021-02-24T13:33:55.706000",
          "2021-02-24T14:05:37.285000",
          "2021-02-24T15:09:04.189000",
          "2021-02-24T16:05:20.216000",
          "2021-02-24T17:04:58.363000",
          "2021-02-24T18:03:41.165000",
          "2021-02-24T19:01:37.089000",
          "2021-02-24T20:04:41.397000",
          "2021-02-24T21:02:08.968000",
          "2021-02-24T22:05:37.339000",
          "2021-02-24T23:04:17.715000",
          "2021-02-25T00:06:41.651000",
          "2021-02-25T01:23:11.925000",
          "2021-02-25T02:01:47.617000",
          "2021-02-25T03:01:07.028000",
          "2021-02-25T04:05:02.838000",
          "2021-02-25T05:04:55.488000",
          "2021-02-25T06:07:07.147000",
          "2021-02-25T07:04:38.994000",
          "2021-02-25T08:01:37.266000",
          "2021-02-25T09:01:33.810000",
          "2021-02-25T10:06:49.789000",
          "2021-02-25T11:03:15.070000",
          "2021-02-25T12:05:46.977000",
          "2021-02-25T13:05:27.358000",
          "2021-02-25T14:01:57.895000",
          "2021-02-25T15:02:39.326000",
          "2021-02-25T16:03:34.173000",
          "2021-02-25T17:06:27.249000",
          "2021-02-25T18:04:44.668000",
          "2021-02-25T19:04:49.937000",
          "2021-02-25T20:08:58.749000",
          "2021-02-25T21:07:04.495000",
          "2021-02-25T22:07:14.843000",
          "2021-02-25T23:09:23.932000",
          "2021-02-26T00:03:29.331000",
          "2021-02-26T01:09:29.384000",
          "2021-02-26T02:07:40.769000",
          "2021-02-26T03:05:46.201000",
          "2021-02-26T04:03:44.381000",
          "2021-02-26T05:02:29.395000",
          "2021-02-26T06:04:10.318000",
          "2021-02-26T07:04:40.321000",
          "2021-02-26T07:42:32"
         ]
        }
       ],
       "layout": {
        "autosize": true,
        "template": {
         "data": {
          "bar": [
           {
            "error_x": {
             "color": "#2a3f5f"
            },
            "error_y": {
             "color": "#2a3f5f"
            },
            "marker": {
             "line": {
              "color": "#E5ECF6",
              "width": 0.5
             }
            },
            "type": "bar"
           }
          ],
          "barpolar": [
           {
            "marker": {
             "line": {
              "color": "#E5ECF6",
              "width": 0.5
             }
            },
            "type": "barpolar"
           }
          ],
          "carpet": [
           {
            "aaxis": {
             "endlinecolor": "#2a3f5f",
             "gridcolor": "white",
             "linecolor": "white",
             "minorgridcolor": "white",
             "startlinecolor": "#2a3f5f"
            },
            "baxis": {
             "endlinecolor": "#2a3f5f",
             "gridcolor": "white",
             "linecolor": "white",
             "minorgridcolor": "white",
             "startlinecolor": "#2a3f5f"
            },
            "type": "carpet"
           }
          ],
          "choropleth": [
           {
            "colorbar": {
             "outlinewidth": 0,
             "ticks": ""
            },
            "type": "choropleth"
           }
          ],
          "contour": [
           {
            "colorbar": {
             "outlinewidth": 0,
             "ticks": ""
            },
            "colorscale": [
             [
              0,
              "#0d0887"
             ],
             [
              0.1111111111111111,
              "#46039f"
             ],
             [
              0.2222222222222222,
              "#7201a8"
             ],
             [
              0.3333333333333333,
              "#9c179e"
             ],
             [
              0.4444444444444444,
              "#bd3786"
             ],
             [
              0.5555555555555556,
              "#d8576b"
             ],
             [
              0.6666666666666666,
              "#ed7953"
             ],
             [
              0.7777777777777778,
              "#fb9f3a"
             ],
             [
              0.8888888888888888,
              "#fdca26"
             ],
             [
              1,
              "#f0f921"
             ]
            ],
            "type": "contour"
           }
          ],
          "contourcarpet": [
           {
            "colorbar": {
             "outlinewidth": 0,
             "ticks": ""
            },
            "type": "contourcarpet"
           }
          ],
          "heatmap": [
           {
            "colorbar": {
             "outlinewidth": 0,
             "ticks": ""
            },
            "colorscale": [
             [
              0,
              "#0d0887"
             ],
             [
              0.1111111111111111,
              "#46039f"
             ],
             [
              0.2222222222222222,
              "#7201a8"
             ],
             [
              0.3333333333333333,
              "#9c179e"
             ],
             [
              0.4444444444444444,
              "#bd3786"
             ],
             [
              0.5555555555555556,
              "#d8576b"
             ],
             [
              0.6666666666666666,
              "#ed7953"
             ],
             [
              0.7777777777777778,
              "#fb9f3a"
             ],
             [
              0.8888888888888888,
              "#fdca26"
             ],
             [
              1,
              "#f0f921"
             ]
            ],
            "type": "heatmap"
           }
          ],
          "heatmapgl": [
           {
            "colorbar": {
             "outlinewidth": 0,
             "ticks": ""
            },
            "colorscale": [
             [
              0,
              "#0d0887"
             ],
             [
              0.1111111111111111,
              "#46039f"
             ],
             [
              0.2222222222222222,
              "#7201a8"
             ],
             [
              0.3333333333333333,
              "#9c179e"
             ],
             [
              0.4444444444444444,
              "#bd3786"
             ],
             [
              0.5555555555555556,
              "#d8576b"
             ],
             [
              0.6666666666666666,
              "#ed7953"
             ],
             [
              0.7777777777777778,
              "#fb9f3a"
             ],
             [
              0.8888888888888888,
              "#fdca26"
             ],
             [
              1,
              "#f0f921"
             ]
            ],
            "type": "heatmapgl"
           }
          ],
          "histogram": [
           {
            "marker": {
             "colorbar": {
              "outlinewidth": 0,
              "ticks": ""
             }
            },
            "type": "histogram"
           }
          ],
          "histogram2d": [
           {
            "colorbar": {
             "outlinewidth": 0,
             "ticks": ""
            },
            "colorscale": [
             [
              0,
              "#0d0887"
             ],
             [
              0.1111111111111111,
              "#46039f"
             ],
             [
              0.2222222222222222,
              "#7201a8"
             ],
             [
              0.3333333333333333,
              "#9c179e"
             ],
             [
              0.4444444444444444,
              "#bd3786"
             ],
             [
              0.5555555555555556,
              "#d8576b"
             ],
             [
              0.6666666666666666,
              "#ed7953"
             ],
             [
              0.7777777777777778,
              "#fb9f3a"
             ],
             [
              0.8888888888888888,
              "#fdca26"
             ],
             [
              1,
              "#f0f921"
             ]
            ],
            "type": "histogram2d"
           }
          ],
          "histogram2dcontour": [
           {
            "colorbar": {
             "outlinewidth": 0,
             "ticks": ""
            },
            "colorscale": [
             [
              0,
              "#0d0887"
             ],
             [
              0.1111111111111111,
              "#46039f"
             ],
             [
              0.2222222222222222,
              "#7201a8"
             ],
             [
              0.3333333333333333,
              "#9c179e"
             ],
             [
              0.4444444444444444,
              "#bd3786"
             ],
             [
              0.5555555555555556,
              "#d8576b"
             ],
             [
              0.6666666666666666,
              "#ed7953"
             ],
             [
              0.7777777777777778,
              "#fb9f3a"
             ],
             [
              0.8888888888888888,
              "#fdca26"
             ],
             [
              1,
              "#f0f921"
             ]
            ],
            "type": "histogram2dcontour"
           }
          ],
          "mesh3d": [
           {
            "colorbar": {
             "outlinewidth": 0,
             "ticks": ""
            },
            "type": "mesh3d"
           }
          ],
          "parcoords": [
           {
            "line": {
             "colorbar": {
              "outlinewidth": 0,
              "ticks": ""
             }
            },
            "type": "parcoords"
           }
          ],
          "pie": [
           {
            "automargin": true,
            "type": "pie"
           }
          ],
          "scatter": [
           {
            "marker": {
             "colorbar": {
              "outlinewidth": 0,
              "ticks": ""
             }
            },
            "type": "scatter"
           }
          ],
          "scatter3d": [
           {
            "line": {
             "colorbar": {
              "outlinewidth": 0,
              "ticks": ""
             }
            },
            "marker": {
             "colorbar": {
              "outlinewidth": 0,
              "ticks": ""
             }
            },
            "type": "scatter3d"
           }
          ],
          "scattercarpet": [
           {
            "marker": {
             "colorbar": {
              "outlinewidth": 0,
              "ticks": ""
             }
            },
            "type": "scattercarpet"
           }
          ],
          "scattergeo": [
           {
            "marker": {
             "colorbar": {
              "outlinewidth": 0,
              "ticks": ""
             }
            },
            "type": "scattergeo"
           }
          ],
          "scattergl": [
           {
            "marker": {
             "colorbar": {
              "outlinewidth": 0,
              "ticks": ""
             }
            },
            "type": "scattergl"
           }
          ],
          "scattermapbox": [
           {
            "marker": {
             "colorbar": {
              "outlinewidth": 0,
              "ticks": ""
             }
            },
            "type": "scattermapbox"
           }
          ],
          "scatterpolar": [
           {
            "marker": {
             "colorbar": {
              "outlinewidth": 0,
              "ticks": ""
             }
            },
            "type": "scatterpolar"
           }
          ],
          "scatterpolargl": [
           {
            "marker": {
             "colorbar": {
              "outlinewidth": 0,
              "ticks": ""
             }
            },
            "type": "scatterpolargl"
           }
          ],
          "scatterternary": [
           {
            "marker": {
             "colorbar": {
              "outlinewidth": 0,
              "ticks": ""
             }
            },
            "type": "scatterternary"
           }
          ],
          "surface": [
           {
            "colorbar": {
             "outlinewidth": 0,
             "ticks": ""
            },
            "colorscale": [
             [
              0,
              "#0d0887"
             ],
             [
              0.1111111111111111,
              "#46039f"
             ],
             [
              0.2222222222222222,
              "#7201a8"
             ],
             [
              0.3333333333333333,
              "#9c179e"
             ],
             [
              0.4444444444444444,
              "#bd3786"
             ],
             [
              0.5555555555555556,
              "#d8576b"
             ],
             [
              0.6666666666666666,
              "#ed7953"
             ],
             [
              0.7777777777777778,
              "#fb9f3a"
             ],
             [
              0.8888888888888888,
              "#fdca26"
             ],
             [
              1,
              "#f0f921"
             ]
            ],
            "type": "surface"
           }
          ],
          "table": [
           {
            "cells": {
             "fill": {
              "color": "#EBF0F8"
             },
             "line": {
              "color": "white"
             }
            },
            "header": {
             "fill": {
              "color": "#C8D4E3"
             },
             "line": {
              "color": "white"
             }
            },
            "type": "table"
           }
          ]
         },
         "layout": {
          "annotationdefaults": {
           "arrowcolor": "#2a3f5f",
           "arrowhead": 0,
           "arrowwidth": 1
          },
          "autotypenumbers": "strict",
          "coloraxis": {
           "colorbar": {
            "outlinewidth": 0,
            "ticks": ""
           }
          },
          "colorscale": {
           "diverging": [
            [
             0,
             "#8e0152"
            ],
            [
             0.1,
             "#c51b7d"
            ],
            [
             0.2,
             "#de77ae"
            ],
            [
             0.3,
             "#f1b6da"
            ],
            [
             0.4,
             "#fde0ef"
            ],
            [
             0.5,
             "#f7f7f7"
            ],
            [
             0.6,
             "#e6f5d0"
            ],
            [
             0.7,
             "#b8e186"
            ],
            [
             0.8,
             "#7fbc41"
            ],
            [
             0.9,
             "#4d9221"
            ],
            [
             1,
             "#276419"
            ]
           ],
           "sequential": [
            [
             0,
             "#0d0887"
            ],
            [
             0.1111111111111111,
             "#46039f"
            ],
            [
             0.2222222222222222,
             "#7201a8"
            ],
            [
             0.3333333333333333,
             "#9c179e"
            ],
            [
             0.4444444444444444,
             "#bd3786"
            ],
            [
             0.5555555555555556,
             "#d8576b"
            ],
            [
             0.6666666666666666,
             "#ed7953"
            ],
            [
             0.7777777777777778,
             "#fb9f3a"
            ],
            [
             0.8888888888888888,
             "#fdca26"
            ],
            [
             1,
             "#f0f921"
            ]
           ],
           "sequentialminus": [
            [
             0,
             "#0d0887"
            ],
            [
             0.1111111111111111,
             "#46039f"
            ],
            [
             0.2222222222222222,
             "#7201a8"
            ],
            [
             0.3333333333333333,
             "#9c179e"
            ],
            [
             0.4444444444444444,
             "#bd3786"
            ],
            [
             0.5555555555555556,
             "#d8576b"
            ],
            [
             0.6666666666666666,
             "#ed7953"
            ],
            [
             0.7777777777777778,
             "#fb9f3a"
            ],
            [
             0.8888888888888888,
             "#fdca26"
            ],
            [
             1,
             "#f0f921"
            ]
           ]
          },
          "colorway": [
           "#636efa",
           "#EF553B",
           "#00cc96",
           "#ab63fa",
           "#FFA15A",
           "#19d3f3",
           "#FF6692",
           "#B6E880",
           "#FF97FF",
           "#FECB52"
          ],
          "font": {
           "color": "#2a3f5f"
          },
          "geo": {
           "bgcolor": "white",
           "lakecolor": "white",
           "landcolor": "#E5ECF6",
           "showlakes": true,
           "showland": true,
           "subunitcolor": "white"
          },
          "hoverlabel": {
           "align": "left"
          },
          "hovermode": "closest",
          "mapbox": {
           "style": "light"
          },
          "paper_bgcolor": "white",
          "plot_bgcolor": "#E5ECF6",
          "polar": {
           "angularaxis": {
            "gridcolor": "white",
            "linecolor": "white",
            "ticks": ""
           },
           "bgcolor": "#E5ECF6",
           "radialaxis": {
            "gridcolor": "white",
            "linecolor": "white",
            "ticks": ""
           }
          },
          "scene": {
           "xaxis": {
            "backgroundcolor": "#E5ECF6",
            "gridcolor": "white",
            "gridwidth": 2,
            "linecolor": "white",
            "showbackground": true,
            "ticks": "",
            "zerolinecolor": "white"
           },
           "yaxis": {
            "backgroundcolor": "#E5ECF6",
            "gridcolor": "white",
            "gridwidth": 2,
            "linecolor": "white",
            "showbackground": true,
            "ticks": "",
            "zerolinecolor": "white"
           },
           "zaxis": {
            "backgroundcolor": "#E5ECF6",
            "gridcolor": "white",
            "gridwidth": 2,
            "linecolor": "white",
            "showbackground": true,
            "ticks": "",
            "zerolinecolor": "white"
           }
          },
          "shapedefaults": {
           "line": {
            "color": "#2a3f5f"
           }
          },
          "ternary": {
           "aaxis": {
            "gridcolor": "white",
            "linecolor": "white",
            "ticks": ""
           },
           "baxis": {
            "gridcolor": "white",
            "linecolor": "white",
            "ticks": ""
           },
           "bgcolor": "#E5ECF6",
           "caxis": {
            "gridcolor": "white",
            "linecolor": "white",
            "ticks": ""
           }
          },
          "title": {
           "x": 0.05
          },
          "xaxis": {
           "automargin": true,
           "gridcolor": "white",
           "linecolor": "white",
           "ticks": "",
           "title": {
            "standoff": 15
           },
           "zerolinecolor": "white",
           "zerolinewidth": 2
          },
          "yaxis": {
           "automargin": true,
           "gridcolor": "white",
           "linecolor": "white",
           "ticks": "",
           "title": {
            "standoff": 15
           },
           "zerolinecolor": "white",
           "zerolinewidth": 2
          }
         }
        },
        "xaxis": {
         "autorange": true,
         "range": [
          "2021-01-27 07:52:38.554",
          "2021-01-28 13:18:36.202"
         ],
         "rangeslider": {
          "visible": false,
          "yaxis": {}
         },
         "type": "date"
        },
        "yaxis": {
         "autorange": true,
         "range": [
          27960.912094401603,
          59940.03670446535
         ]
        }
       }
      },
      "image/png": "[encoded data removed]",
      "text/html": [
       "<div>                            <div id=\"361909d1-d56a-4be3-acfb-960661b2bbce\" class=\"plotly-graph-div\" style=\"height:525px; width:100%;\"></div>            <script type=\"text/javascript\">                require([\"plotly\"], function(Plotly) {                    window.PLOTLYENV=window.PLOTLYENV || {};                                    if (document.getElementById(\"361909d1-d56a-4be3-acfb-960661b2bbce\")) {                    Plotly.newPlot(                        \"361909d1-d56a-4be3-acfb-960661b2bbce\",                        [{\"close\": [30624.65494170474, 33351.39764011169, 34340.212459132264, 34374.73259794369, 32883.72101223779, 33396.069558978226, 35601.89057074735, 37262.98829220119, 37232.783759370024, 37865.37185426464, 39950.31037221073, 38742.668687007754, 44826.28750547821, 46848.85419935941, 45054.239036355364, 47499.27660080816, 47694.83316871613, 46998.96059525472, 49082.8059943863, 48247.94545823356, 49157.713605124474, 52115.160034438544, 51834.34543644542, 55681.23038910506, 55525.62300290166, 57447.58722000145, 54343.14158403225, 48716.90379287523, 49023.95828746365, 48267.660619479444, 44774.80566283599], \"high\": [31849.931542834387, 33351.39764011169, 38429.22726017632, 34685.01073480113, 34150.35944817495, 34541.98958163351, 35794.22510117993, 37266.37798793092, 38149.39559542189, 38231.390721737356, 40817.01467220043, 39539.86404463179, 44826.28750547821, 48025.18236725473, 46682.47286290658, 47955.8815336257, 48216.13437588234, 47824.62281821764, 49087.20681382356, 48614.864701755476, 49702.313299239046, 52320.915246127704, 52354.33106806803, 55764.85129112884, 57686.87048523401, 58341.08047396216, 57640.88905665459, 54304.14245768419, 51220.31692723462, 51775.011918430224, 47671.0461272975], \"low\": [29559.86832490479, 30537.06489727121, 32200.730856163747, 33237.570063076186, 32400.172030590213, 32595.697578914107, 33423.24271066071, 35477.931896359456, 36543.386260317886, 36841.82139551367, 38250.33158170683, 37815.85389172272, 37964.986949126964, 45279.29714416771, 44283.558574113624, 44187.55945071082, 46716.564311380964, 46296.60220783228, 47007.26367365752, 46770.02817531785, 47806.49395997484, 49195.06703693363, 51391.90391143333, 51197.179078766385, 55525.62300290166, 56017.33652151309, 52529.20268518061, 45680.43919795691, 48274.802986996896, 48267.660619479444, 44774.80566283599], \"open\": [31849.931542834387, 30537.06489727121, 33915.48701888487, 34685.01073480113, 34145.70091063483, 33040.14248166375, 33423.24271066071, 35477.931896359456, 37725.26455362201, 36886.69324526582, 38250.33158170683, 38962.73218689435, 38833.34026455532, 47156.4327280836, 46510.736783442466, 44848.69344950499, 47815.96175554316, 47414.1862550079, 47007.26367365752, 48565.32288945199, 47806.49395997484, 49436.324978116914, 52354.33106806803, 51706.494971772256, 56038.72775892988, 56377.63347790987, 57640.88905665459, 54304.14245768419, 48691.894831704405, 49925.73871964238, 46992.665450048495], \"type\": \"candlestick\", \"x\": [\"2021-01-27T08:04:45.810000\", \"2021-01-27T09:28:21.968000\", \"2021-01-27T09:54:27.212000\", \"2021-01-27T10:40:11.510000\", \"2021-01-27T11:04:26.022000\", \"2021-01-27T12:08:21.949000\", \"2021-01-27T13:04:26.081000\", \"2021-01-27T14:16:15.270000\", \"2021-01-27T15:06:49.510000\", \"2021-01-27T16:17:15.617000\", \"2021-01-27T17:07:27.219000\", \"2021-01-27T18:24:17.905000\", \"2021-01-27T19:05:12.851000\", \"2021-01-27T20:12:05.981000\", \"2021-01-27T21:12:07.554000\", \"2021-01-27T22:07:10.371000\", \"2021-01-27T23:09:23.796000\", \"2021-01-28T00:08:48.091000\", \"2021-01-28T01:35:24.203000\", \"2021-01-28T02:07:17.063000\", \"2021-01-28T03:12:27.135000\", \"2021-01-28T04:04:18.864000\", \"2021-01-28T05:12:57.503000\", \"2021-01-28T06:09:37.338000\", \"2021-01-28T07:09:20.016000\", \"2021-01-28T08:12:40.692000\", \"2021-01-28T09:14:14.811000\", \"2021-01-28T10:13:46.055000\", \"2021-01-28T11:03:20.125000\", \"2021-01-28T12:15:01.743000\", \"2021-01-28T13:06:28.946000\", \"2021-01-28T14:02:53.970000\", \"2021-01-28T15:19:06.824000\", \"2021-01-28T16:04:22.091000\", \"2021-01-28T17:06:28.680000\", \"2021-01-28T18:12:23.113000\", \"2021-01-28T19:19:06.421000\", \"2021-01-28T20:10:15.105000\", \"2021-01-28T21:10:40.965000\", \"2021-01-28T22:04:05.146000\", \"2021-01-28T23:11:17.356000\", \"2021-01-29T00:25:09.424000\", \"2021-01-29T01:13:14.545000\", \"2021-01-29T02:12:31.019000\", \"2021-01-29T03:18:34.932000\", \"2021-01-29T04:04:59.618000\", \"2021-01-29T05:19:29.178000\", \"2021-01-29T06:14:02.721000\", \"2021-01-29T07:14:33.154000\", \"2021-01-29T08:02:50.937000\", \"2021-01-29T09:12:59.675000\", \"2021-01-29T10:24:28.967000\", \"2021-01-29T11:06:39.068000\", \"2021-01-29T12:09:32.837000\", \"2021-01-29T13:07:24.696000\", \"2021-01-29T14:02:09.371000\", \"2021-01-29T15:04:42.041000\", \"2021-01-29T16:10:22.044000\", \"2021-01-29T17:08:34.831000\", \"2021-01-29T18:09:41.855000\", \"2021-01-29T19:13:33.742000\", \"2021-01-29T20:21:44.209000\", \"2021-01-29T21:14:51.434000\", \"2021-01-29T22:14:22.074000\", \"2021-01-29T23:04:30.043000\", \"2021-01-30T00:11:10.323000\", \"2021-01-30T01:05:11.120000\", \"2021-01-30T02:06:33.509000\", \"2021-01-30T03:18:08.403000\", \"2021-01-30T04:09:54.782000\", \"2021-01-30T05:21:36.130000\", \"2021-01-30T06:17:50.138000\", \"2021-01-30T07:12:29.765000\", \"2021-01-30T08:04:44.300000\", \"2021-01-30T09:21:47.760000\", \"2021-01-30T10:13:12.384000\", \"2021-01-30T11:04:29.516000\", \"2021-01-30T12:17:18.531000\", \"2021-01-30T13:39:12.689000\", \"2021-01-30T14:06:57.458000\", \"2021-01-30T15:03:10.350000\", \"2021-01-30T16:04:23.053000\", \"2021-01-30T17:12:58.328000\", \"2021-01-30T18:01:43.036000\", \"2021-01-30T19:08:04.101000\", \"2021-01-30T20:11:22.665000\", \"2021-01-30T21:12:04.259000\", \"2021-01-30T22:16:43.670000\", \"2021-01-30T23:13:19.570000\", \"2021-01-31T00:21:40.064000\", \"2021-01-31T01:35:04.278000\", \"2021-01-31T02:05:30.644000\", \"2021-01-31T03:03:59.146000\", \"2021-01-31T04:05:18.884000\", \"2021-01-31T05:12:14.853000\", \"2021-01-31T06:08:45.233000\", \"2021-01-31T07:04:04.038000\", \"2021-01-31T08:08:59.861000\", \"2021-01-31T09:15:12.522000\", \"2021-01-31T10:06:01.476000\", \"2021-01-31T11:02:01.087000\", \"2021-01-31T12:04:24.927000\", \"2021-01-31T13:38:16.734000\", \"2021-01-31T14:05:19.807000\", \"2021-01-31T15:06:35.331000\", \"2021-01-31T16:03:44.025000\", \"2021-01-31T17:07:07.540000\", \"2021-01-31T18:01:53.494000\", \"2021-01-31T19:08:22.533000\", \"2021-01-31T20:05:16.758000\", \"2021-01-31T21:04:03.549000\", \"2021-01-31T22:07:02.817000\", \"2021-01-31T23:03:03.788000\", \"2021-02-01T00:07:09.948000\", \"2021-02-01T01:24:01.986000\", \"2021-02-01T02:04:02.170000\", \"2021-02-01T03:11:48.803000\", \"2021-02-01T04:08:31.256000\", \"2021-02-01T05:13:51.307000\", \"2021-02-01T06:10:18.253000\", \"2021-02-01T07:17:26.975000\", \"2021-02-01T08:06:38.650000\", \"2021-02-01T09:12:45.866000\", \"2021-02-01T10:05:05.186000\", \"2021-02-01T11:09:09.436000\", \"2021-02-01T12:12:46.411000\", \"2021-02-01T13:33:41.253000\", \"2021-02-01T14:04:51.819000\", \"2021-02-01T15:11:38.820000\", \"2021-02-01T16:08:53.059000\", \"2021-02-01T17:10:09.001000\", \"2021-02-01T18:04:27.780000\", \"2021-02-01T19:06:45.597000\", \"2021-02-01T20:01:20.711000\", \"2021-02-01T21:12:11.294000\", \"2021-02-01T22:02:40.186000\", \"2021-02-01T23:05:53.709000\", \"2021-02-02T00:06:22.876000\", \"2021-02-02T01:06:17.733000\", \"2021-02-02T02:04:01.081000\", \"2021-02-02T03:05:12.205000\", \"2021-02-02T04:04:16.295000\", \"2021-02-02T05:11:23.365000\", \"2021-02-02T06:03:50.994000\", \"2021-02-02T07:06:33.769000\", \"2021-02-02T08:11:23.919000\", \"2021-02-02T09:01:09.582000\", \"2021-02-02T10:07:09.477000\", \"2021-02-02T11:10:23.036000\", \"2021-02-02T12:10:07.799000\", \"2021-02-02T13:04:15.026000\", \"2021-02-02T14:02:03.660000\", \"2021-02-02T15:06:31.788000\", \"2021-02-02T16:06:49.930000\", \"2021-02-02T17:01:45.755000\", \"2021-02-02T18:03:06.105000\", \"2021-02-02T19:04:43.424000\", \"2021-02-02T20:08:18.742000\", \"2021-02-02T21:05:41.569000\", \"2021-02-02T22:08:30.192000\", \"2021-02-02T23:10:01.256000\", \"2021-02-03T00:07:42.359000\", \"2021-02-03T01:05:34.056000\", \"2021-02-03T02:01:47.456000\", \"2021-02-03T03:07:38.972000\", \"2021-02-03T04:09:17.285000\", \"2021-02-03T05:06:29.638000\", \"2021-02-03T06:10:22.440000\", \"2021-02-03T07:03:38.762000\", \"2021-02-03T08:04:37.746000\", \"2021-02-03T09:12:19.938000\", \"2021-02-03T10:04:52.518000\", \"2021-02-03T11:11:25.227000\", \"2021-02-03T12:13:16.827000\", \"2021-02-03T13:07:25.075000\", \"2021-02-03T14:02:43.654000\", \"2021-02-03T15:04:47.845000\", \"2021-02-03T16:04:09.031000\", \"2021-02-03T17:02:37.227000\", \"2021-02-03T18:13:31.552000\", \"2021-02-03T19:09:26.139000\", \"2021-02-03T20:12:21.830000\", \"2021-02-03T21:11:46.861000\", \"2021-02-03T22:09:40.167000\", \"2021-02-03T23:03:30.177000\", \"2021-02-04T00:06:52.982000\", \"2021-02-04T01:07:09.985000\", \"2021-02-04T02:01:43.782000\", \"2021-02-04T03:06:31.776000\", \"2021-02-04T04:14:44.156000\", \"2021-02-04T05:08:37.007000\", \"2021-02-04T06:06:09.656000\", \"2021-02-04T07:03:27.687000\", \"2021-02-04T08:03:24.629000\", \"2021-02-04T09:11:10.184000\", \"2021-02-04T10:12:14.398000\", \"2021-02-04T11:06:35.036000\", \"2021-02-04T12:05:34.409000\", \"2021-02-04T13:05:36.115000\", \"2021-02-04T14:05:48.350000\", \"2021-02-04T15:10:21.391000\", \"2021-02-04T16:02:41.962000\", \"2021-02-04T17:13:56.542000\", \"2021-02-04T18:12:43.042000\", \"2021-02-04T19:08:37.529000\", \"2021-02-04T20:08:03.209000\", \"2021-02-04T21:04:28.849000\", \"2021-02-04T22:05:34.705000\", \"2021-02-04T23:10:15.852000\", \"2021-02-05T00:12:17.332000\", \"2021-02-05T01:27:40.591000\", \"2021-02-05T02:04:32.491000\", \"2021-02-05T03:12:25.546000\", \"2021-02-05T04:06:35.269000\", \"2021-02-05T05:13:27.585000\", \"2021-02-05T06:08:50.241000\", \"2021-02-05T07:05:48.332000\", \"2021-02-05T08:13:28.972000\", \"2021-02-05T09:09:30.522000\", \"2021-02-05T10:04:42.067000\", \"2021-02-05T11:05:22.966000\", \"2021-02-05T12:06:54.996000\", \"2021-02-05T13:03:32.292000\", \"2021-02-05T14:09:28.383000\", \"2021-02-05T15:08:12.827000\", \"2021-02-05T16:12:26.809000\", \"2021-02-05T17:05:31.089000\", \"2021-02-05T18:16:09.992000\", \"2021-02-05T19:13:36.426000\", \"2021-02-05T20:09:37.514000\", \"2021-02-05T21:12:33.794000\", \"2021-02-05T22:18:04.104000\", \"2021-02-05T23:02:42.396000\", \"2021-02-06T00:07:33.478000\", \"2021-02-06T01:23:40.037000\", \"2021-02-06T02:05:06.597000\", \"2021-02-06T03:07:18.242000\", \"2021-02-06T04:07:56.890000\", \"2021-02-06T05:05:23.884000\", \"2021-02-06T06:03:13.354000\", \"2021-02-06T07:14:54.359000\", \"2021-02-06T08:08:35.746000\", \"2021-02-06T09:14:08.669000\", \"2021-02-06T10:05:19.075000\", \"2021-02-06T11:12:42.121000\", \"2021-02-06T12:05:23.590000\", \"2021-02-06T13:27:18.306000\", \"2021-02-06T14:11:21.813000\", \"2021-02-06T15:06:09.928000\", \"2021-02-06T16:07:29.448000\", \"2021-02-06T17:13:45.932000\", \"2021-02-06T18:12:34.420000\", \"2021-02-06T19:01:51.895000\", \"2021-02-06T20:15:24.386000\", \"2021-02-06T21:02:00.123000\", \"2021-02-06T22:23:37.650000\", \"2021-02-06T23:03:19.997000\", \"2021-02-07T00:13:48.461000\", \"2021-02-07T01:09:28.684000\", \"2021-02-07T02:02:56.565000\", \"2021-02-07T03:05:01.781000\", \"2021-02-07T04:04:33.736000\", \"2021-02-07T05:05:26.319000\", \"2021-02-07T06:04:37.556000\", \"2021-02-07T07:03:18.152000\", \"2021-02-07T08:05:32.073000\", \"2021-02-07T09:10:44.975000\", \"2021-02-07T10:04:24.711000\", \"2021-02-07T11:15:57.254000\", \"2021-02-07T12:00:45.321000\", \"2021-02-07T13:25:08.762000\", \"2021-02-07T14:01:22.313000\", \"2021-02-07T15:04:28.738000\", \"2021-02-07T16:01:37.780000\", \"2021-02-07T17:07:13.453000\", \"2021-02-07T18:05:20.990000\", \"2021-02-07T19:06:22.549000\", \"2021-02-07T20:01:22.223000\", \"2021-02-07T21:25:33.703000\", \"2021-02-07T22:14:12.116000\", \"2021-02-07T23:04:13.909000\", \"2021-02-08T00:03:57.544000\", \"2021-02-08T01:04:18.646000\", \"2021-02-08T02:08:11.438000\", \"2021-02-08T03:10:48.814000\", \"2021-02-08T04:03:14.938000\", \"2021-02-08T05:07:00.426000\", \"2021-02-08T06:07:07.895000\", \"2021-02-08T07:08:31.458000\", \"2021-02-08T08:08:02.459000\", \"2021-02-08T09:01:22.036000\", \"2021-02-08T10:13:58.397000\", \"2021-02-08T11:14:24.722000\", \"2021-02-08T12:15:45.212000\", \"2021-02-08T13:37:25.799000\", \"2021-02-08T14:04:25.137000\", \"2021-02-08T15:09:51.168000\", \"2021-02-08T16:06:31.003000\", \"2021-02-08T17:02:31.223000\", \"2021-02-08T18:18:59.501000\", \"2021-02-08T19:18:29.403000\", \"2021-02-08T20:04:25.466000\", \"2021-02-08T21:08:47.757000\", \"2021-02-08T22:00:37.297000\", \"2021-02-08T23:11:46.961000\", \"2021-02-09T00:13:23.656000\", \"2021-02-09T01:36:58.589000\", \"2021-02-09T02:06:43.544000\", \"2021-02-09T03:06:23.775000\", \"2021-02-09T04:09:48.960000\", \"2021-02-09T05:09:39.553000\", \"2021-02-09T06:08:39.179000\", \"2021-02-09T07:07:01.502000\", \"2021-02-09T08:08:19.485000\", \"2021-02-09T09:07:54.390000\", \"2021-02-09T10:04:52.658000\", \"2021-02-09T11:06:28.227000\", \"2021-02-09T12:05:59.908000\", \"2021-02-09T13:04:24.094000\", \"2021-02-09T14:02:48.185000\", \"2021-02-09T15:06:38.085000\", \"2021-02-09T16:11:19.759000\", \"2021-02-09T17:03:47.739000\", \"2021-02-09T18:07:38.547000\", \"2021-02-09T19:13:27.828000\", \"2021-02-09T20:07:17.619000\", \"2021-02-09T21:13:16.693000\", \"2021-02-09T22:07:07.592000\", \"2021-02-09T23:04:38.697000\", \"2021-02-10T00:06:07.533000\", \"2021-02-10T01:28:52.186000\", \"2021-02-10T02:09:45.891000\", \"2021-02-10T03:09:32.715000\", \"2021-02-10T04:09:33.585000\", \"2021-02-10T05:11:41.219000\", \"2021-02-10T06:04:52.482000\", \"2021-02-10T07:00:43.022000\", \"2021-02-10T08:16:30.372000\", \"2021-02-10T09:08:51.502000\", \"2021-02-10T10:07:09.146000\", \"2021-02-10T11:14:47.496000\", \"2021-02-10T12:07:46.923000\", \"2021-02-10T13:01:27.469000\", \"2021-02-10T14:10:16.258000\", \"2021-02-10T15:12:11.064000\", \"2021-02-10T16:02:06.538000\", \"2021-02-10T17:00:41.129000\", \"2021-02-10T18:03:16.043000\", \"2021-02-10T19:02:38.913000\", \"2021-02-10T20:18:29.148000\", \"2021-02-10T21:03:12.669000\", \"2021-02-10T22:04:42.692000\", \"2021-02-10T23:13:37.387000\", \"2021-02-11T00:01:18.123000\", \"2021-02-11T01:02:09.744000\", \"2021-02-11T02:06:55.516000\", \"2021-02-11T03:02:03.611000\", \"2021-02-11T04:06:50.229000\", \"2021-02-11T05:07:53.793000\", \"2021-02-11T06:08:07.152000\", \"2021-02-11T07:06:34.036000\", \"2021-02-11T08:07:22.346000\", \"2021-02-11T09:12:12.699000\", \"2021-02-11T10:08:54.907000\", \"2021-02-11T11:02:31.779000\", \"2021-02-11T12:08:10.913000\", \"2021-02-11T13:38:20.498000\", \"2021-02-11T14:01:29.259000\", \"2021-02-11T15:04:44.379000\", \"2021-02-11T16:07:59.652000\", \"2021-02-11T17:10:07.770000\", \"2021-02-11T18:07:09.773000\", \"2021-02-11T19:09:44.348000\", \"2021-02-11T20:08:15.144000\", \"2021-02-11T21:09:58.773000\", \"2021-02-11T22:06:50.835000\", \"2021-02-11T23:01:44.706000\", \"2021-02-12T00:04:21.321000\", \"2021-02-12T01:24:16.641000\", \"2021-02-12T02:08:30.832000\", \"2021-02-12T03:05:23.062000\", \"2021-02-12T04:03:34.975000\", \"2021-02-12T05:04:11.185000\", \"2021-02-12T06:08:10.433000\", \"2021-02-12T07:07:04.046000\", \"2021-02-12T08:03:47.195000\", \"2021-02-12T09:10:00.175000\", \"2021-02-12T10:07:01.911000\", \"2021-02-12T11:11:14.354000\", \"2021-02-12T12:12:15.178000\", \"2021-02-12T13:02:15.240000\", \"2021-02-12T14:01:39.871000\", \"2021-02-12T15:13:09.885000\", \"2021-02-12T16:06:56.862000\", \"2021-02-12T17:04:43.699000\", \"2021-02-12T18:05:36.250000\", \"2021-02-12T19:08:37.782000\", \"2021-02-12T20:06:06.338000\", \"2021-02-12T21:01:54.420000\", \"2021-02-12T22:05:13.553000\", \"2021-02-12T23:10:59.433000\", \"2021-02-13T00:03:16.576000\", \"2021-02-13T01:31:02.870000\", \"2021-02-13T02:11:46.113000\", \"2021-02-13T03:09:32.023000\", \"2021-02-13T04:09:57.487000\", \"2021-02-13T05:09:48.839000\", \"2021-02-13T06:04:04.090000\", \"2021-02-13T07:09:15.990000\", \"2021-02-13T08:04:17.382000\", \"2021-02-13T09:02:09.906000\", \"2021-02-13T10:06:29.277000\", \"2021-02-13T11:08:38.926000\", \"2021-02-13T12:10:12.357000\", \"2021-02-13T13:04:45.632000\", \"2021-02-13T14:04:15.382000\", \"2021-02-13T15:04:50.089000\", \"2021-02-13T16:11:08.518000\", \"2021-02-13T17:05:05.851000\", \"2021-02-13T18:08:18.514000\", \"2021-02-13T19:04:14.006000\", \"2021-02-13T20:06:16.837000\", \"2021-02-13T21:04:17.033000\", \"2021-02-13T22:07:34.945000\", \"2021-02-13T23:07:42.027000\", \"2021-02-14T00:08:08.125000\", \"2021-02-14T01:29:56.351000\", \"2021-02-14T02:05:32.540000\", \"2021-02-14T03:06:32.236000\", \"2021-02-14T04:02:17.789000\", \"2021-02-14T05:10:44.617000\", \"2021-02-14T06:07:43.411000\", \"2021-02-14T07:10:52.327000\", \"2021-02-14T08:07:59.063000\", \"2021-02-14T09:06:48.456000\", \"2021-02-14T10:11:05.290000\", \"2021-02-14T11:12:01.782000\", \"2021-02-14T12:07:17.135000\", \"2021-02-14T13:33:38.035000\", \"2021-02-14T14:05:17.302000\", \"2021-02-14T15:02:45.762000\", \"2021-02-14T16:06:32.572000\", \"2021-02-14T17:13:47.422000\", \"2021-02-14T18:11:42.489000\", \"2021-02-14T19:08:43.808000\", \"2021-02-14T20:07:16.763000\", \"2021-02-14T21:05:03.477000\", \"2021-02-14T22:04:16.199000\", \"2021-02-14T23:04:50.689000\", \"2021-02-15T00:07:25.703000\", \"2021-02-15T01:29:59.087000\", \"2021-02-15T02:04:28.119000\", \"2021-02-15T03:11:46.017000\", \"2021-02-15T04:01:40.359000\", \"2021-02-15T05:04:49.602000\", \"2021-02-15T06:08:28.494000\", \"2021-02-15T07:14:17.020000\", \"2021-02-15T08:06:35.055000\", \"2021-02-15T09:10:22.091000\", \"2021-02-15T10:06:36.691000\", \"2021-02-15T11:01:59.233000\", \"2021-02-15T12:07:09.532000\", \"2021-02-15T13:33:15.288000\", \"2021-02-15T14:04:53.320000\", \"2021-02-15T15:03:07.429000\", \"2021-02-15T16:12:16.936000\", \"2021-02-15T17:09:47.406000\", \"2021-02-15T18:07:20.802000\", \"2021-02-15T19:05:49.902000\", \"2021-02-15T20:02:45.262000\", \"2021-02-15T21:08:00.887000\", \"2021-02-15T22:04:18.832000\", \"2021-02-15T23:13:15.726000\", \"2021-02-16T00:14:55.663000\", \"2021-02-16T01:29:59.237000\", \"2021-02-16T02:08:16.753000\", \"2021-02-16T03:04:31.468000\", \"2021-02-16T04:08:49.054000\", \"2021-02-16T05:09:28.660000\", \"2021-02-16T06:06:51.755000\", \"2021-02-16T07:10:21.936000\", \"2021-02-16T08:03:57.004000\", \"2021-02-16T09:03:50.100000\", \"2021-02-16T10:05:42.206000\", \"2021-02-16T11:04:41.796000\", \"2021-02-16T12:06:15.449000\", \"2021-02-16T13:04:11.716000\", \"2021-02-16T14:08:40.394000\", \"2021-02-16T15:08:53.513000\", \"2021-02-16T16:06:36.187000\", \"2021-02-16T17:06:23.564000\", \"2021-02-16T18:05:08.067000\", \"2021-02-16T19:04:47.028000\", \"2021-02-16T20:07:10.091000\", \"2021-02-16T21:07:16.878000\", \"2021-02-16T22:07:15.166000\", \"2021-02-16T23:09:17.198000\", \"2021-02-17T00:13:50.526000\", \"2021-02-17T01:36:30.789000\", \"2021-02-17T02:05:55.425000\", \"2021-02-17T03:03:20.106000\", \"2021-02-17T04:03:23.955000\", \"2021-02-17T05:03:44.492000\", \"2021-02-17T06:08:50.743000\", \"2021-02-17T07:00:06.966000\", \"2021-02-17T08:04:01.675000\", \"2021-02-17T09:17:10.856000\", \"2021-02-17T10:01:12.913000\", \"2021-02-17T11:09:16.700000\", \"2021-02-17T12:09:33.847000\", \"2021-02-17T13:33:33.999000\", \"2021-02-17T14:08:01.549000\", \"2021-02-17T15:06:20.983000\", \"2021-02-17T16:04:54.863000\", \"2021-02-17T17:07:40.433000\", \"2021-02-17T18:08:52.653000\", \"2021-02-17T19:12:28.890000\", \"2021-02-17T20:12:29.530000\", \"2021-02-17T21:18:31.889000\", \"2021-02-17T22:12:30.271000\", \"2021-02-17T23:04:28.815000\", \"2021-02-18T00:13:14.415000\", \"2021-02-18T01:33:05.108000\", \"2021-02-18T02:07:25.259000\", \"2021-02-18T03:06:34.403000\", \"2021-02-18T04:09:30.337000\", \"2021-02-18T05:17:19.029000\", \"2021-02-18T06:02:34.945000\", \"2021-02-18T07:08:06.763000\", \"2021-02-18T08:04:37.933000\", \"2021-02-18T09:05:00.452000\", \"2021-02-18T10:09:03.565000\", \"2021-02-18T11:01:38.361000\", \"2021-02-18T12:03:38.860000\", \"2021-02-18T13:02:15.817000\", \"2021-02-18T14:12:24.475000\", \"2021-02-18T15:04:24.863000\", \"2021-02-18T16:06:46.645000\", \"2021-02-18T17:16:46.868000\", \"2021-02-18T18:02:15.866000\", \"2021-02-18T19:05:15.642000\", \"2021-02-18T20:07:27.350000\", \"2021-02-18T21:01:31.940000\", \"2021-02-18T22:04:37.515000\", \"2021-02-18T23:02:00.460000\", \"2021-02-19T00:09:38.129000\", \"2021-02-19T01:28:40.455000\", \"2021-02-19T02:09:04.435000\", \"2021-02-19T03:04:46.586000\", \"2021-02-19T04:07:25.527000\", \"2021-02-19T05:04:22.500000\", \"2021-02-19T06:08:02.588000\", \"2021-02-19T07:08:37.700000\", \"2021-02-19T08:10:02.942000\", \"2021-02-19T09:07:44.423000\", \"2021-02-19T10:08:47.895000\", \"2021-02-19T11:11:14.024000\", \"2021-02-19T12:04:41.692000\", \"2021-02-19T13:45:00.296000\", \"2021-02-19T14:04:43.210000\", \"2021-02-19T15:06:59.892000\", \"2021-02-19T16:01:02.050000\", \"2021-02-19T17:05:05.164000\", \"2021-02-19T18:06:38.787000\", \"2021-02-19T19:04:10.467000\", \"2021-02-19T20:01:10.231000\", \"2021-02-19T21:07:12.112000\", \"2021-02-19T22:02:46.166000\", \"2021-02-19T23:03:13.250000\", \"2021-02-20T00:02:02.873000\", \"2021-02-20T01:13:20.642000\", \"2021-02-20T02:37:52.997000\", \"2021-02-20T03:25:15.498000\", \"2021-02-20T04:08:16.109000\", \"2021-02-20T05:09:07.673000\", \"2021-02-20T06:07:09.452000\", \"2021-02-20T07:01:36.100000\", \"2021-02-20T08:03:30.847000\", \"2021-02-20T09:07:19.253000\", \"2021-02-20T10:02:07.015000\", \"2021-02-20T11:08:50.158000\", \"2021-02-20T12:03:07.291000\", \"2021-02-20T13:04:45.927000\", \"2021-02-20T14:10:35.699000\", \"2021-02-20T15:05:43.956000\", \"2021-02-20T16:06:48.935000\", \"2021-02-20T17:11:54.010000\", \"2021-02-20T18:04:58.780000\", \"2021-02-20T19:03:00.325000\", \"2021-02-20T20:11:19.150000\", \"2021-02-20T21:04:47.386000\", \"2021-02-20T22:04:55.257000\", \"2021-02-20T23:08:07.329000\", \"2021-02-21T00:02:00.394000\", \"2021-02-21T01:05:07.433000\", \"2021-02-21T02:09:42.133000\", \"2021-02-21T03:05:24.056000\", \"2021-02-21T04:03:24.511000\", \"2021-02-21T05:02:24.862000\", \"2021-02-21T06:02:35.370000\", \"2021-02-21T07:06:45.210000\", \"2021-02-21T08:06:45.964000\", \"2021-02-21T09:05:20.195000\", \"2021-02-21T10:02:48.722000\", \"2021-02-21T11:05:28.156000\", \"2021-02-21T12:02:45.023000\", \"2021-02-21T13:02:37.772000\", \"2021-02-21T14:03:43.532000\", \"2021-02-21T15:05:24.575000\", \"2021-02-21T16:02:01.445000\", \"2021-02-21T17:09:14.729000\", \"2021-02-21T18:07:35.702000\", \"2021-02-21T19:01:02.108000\", \"2021-02-21T20:04:51.968000\", \"2021-02-21T21:01:20.774000\", \"2021-02-21T22:04:47.842000\", \"2021-02-21T23:06:51.612000\", \"2021-02-22T00:07:49.566000\", \"2021-02-22T01:03:43.863000\", \"2021-02-22T02:07:51.162000\", \"2021-02-22T03:04:34.686000\", \"2021-02-22T04:05:07.760000\", \"2021-02-22T05:07:10.689000\", \"2021-02-22T06:05:09.991000\", \"2021-02-22T07:06:42.557000\", \"2021-02-22T08:07:27.299000\", \"2021-02-22T09:05:08.194000\", \"2021-02-22T10:07:29.714000\", \"2021-02-22T11:18:54.541000\", \"2021-02-22T12:07:50.807000\", \"2021-02-22T13:02:15.367000\", \"2021-02-22T14:09:16.893000\", \"2021-02-22T15:09:00.853000\", \"2021-02-22T16:04:58.349000\", \"2021-02-22T17:05:06.721000\", \"2021-02-22T18:04:10.771000\", \"2021-02-22T19:08:53.858000\", \"2021-02-22T20:05:36.383000\", \"2021-02-22T21:05:24.780000\", \"2021-02-22T22:04:33.240000\", \"2021-02-22T23:08:38.856000\", \"2021-02-23T00:05:31.751000\", \"2021-02-23T01:06:22.489000\", \"2021-02-23T02:03:41.462000\", \"2021-02-23T03:01:13.263000\", \"2021-02-23T04:09:15.954000\", \"2021-02-23T05:09:26.775000\", \"2021-02-23T06:09:56.717000\", \"2021-02-23T07:05:23.249000\", \"2021-02-23T08:04:43.494000\", \"2021-02-23T09:06:47.048000\", \"2021-02-23T10:05:49.963000\", \"2021-02-23T11:04:29.629000\", \"2021-02-23T12:07:56.500000\", \"2021-02-23T13:06:43.384000\", \"2021-02-23T14:06:18.100000\", \"2021-02-23T15:08:04.745000\", \"2021-02-23T16:07:25.481000\", \"2021-02-23T17:09:22.701000\", \"2021-02-23T18:05:41.873000\", \"2021-02-23T19:07:13.898000\", \"2021-02-23T20:09:19.610000\", \"2021-02-23T21:01:57.561000\", \"2021-02-23T22:04:34.429000\", \"2021-02-23T23:01:29.219000\", \"2021-02-24T00:04:19.469000\", \"2021-02-24T01:04:42.367000\", \"2021-02-24T02:02:01.267000\", \"2021-02-24T03:06:26.515000\", \"2021-02-24T04:08:51.318000\", \"2021-02-24T05:06:50.916000\", \"2021-02-24T06:09:32.935000\", \"2021-02-24T07:08:28.742000\", \"2021-02-24T08:19:09.805000\", \"2021-02-24T09:09:50.982000\", \"2021-02-24T10:01:12.772000\", \"2021-02-24T11:07:21.674000\", \"2021-02-24T12:11:24.791000\", \"2021-02-24T13:33:55.706000\", \"2021-02-24T14:05:37.285000\", \"2021-02-24T15:09:04.189000\", \"2021-02-24T16:05:20.216000\", \"2021-02-24T17:04:58.363000\", \"2021-02-24T18:03:41.165000\", \"2021-02-24T19:01:37.089000\", \"2021-02-24T20:04:41.397000\", \"2021-02-24T21:02:08.968000\", \"2021-02-24T22:05:37.339000\", \"2021-02-24T23:04:17.715000\", \"2021-02-25T00:06:41.651000\", \"2021-02-25T01:23:11.925000\", \"2021-02-25T02:01:47.617000\", \"2021-02-25T03:01:07.028000\", \"2021-02-25T04:05:02.838000\", \"2021-02-25T05:04:55.488000\", \"2021-02-25T06:07:07.147000\", \"2021-02-25T07:04:38.994000\", \"2021-02-25T08:01:37.266000\", \"2021-02-25T09:01:33.810000\", \"2021-02-25T10:06:49.789000\", \"2021-02-25T11:03:15.070000\", \"2021-02-25T12:05:46.977000\", \"2021-02-25T13:05:27.358000\", \"2021-02-25T14:01:57.895000\", \"2021-02-25T15:02:39.326000\", \"2021-02-25T16:03:34.173000\", \"2021-02-25T17:06:27.249000\", \"2021-02-25T18:04:44.668000\", \"2021-02-25T19:04:49.937000\", \"2021-02-25T20:08:58.749000\", \"2021-02-25T21:07:04.495000\", \"2021-02-25T22:07:14.843000\", \"2021-02-25T23:09:23.932000\", \"2021-02-26T00:03:29.331000\", \"2021-02-26T01:09:29.384000\", \"2021-02-26T02:07:40.769000\", \"2021-02-26T03:05:46.201000\", \"2021-02-26T04:03:44.381000\", \"2021-02-26T05:02:29.395000\", \"2021-02-26T06:04:10.318000\", \"2021-02-26T07:04:40.321000\", \"2021-02-26T07:42:32\"]}],                        {\"template\": {\"data\": {\"bar\": [{\"error_x\": {\"color\": \"#2a3f5f\"}, \"error_y\": {\"color\": \"#2a3f5f\"}, \"marker\": {\"line\": {\"color\": \"#E5ECF6\", \"width\": 0.5}}, \"type\": \"bar\"}], \"barpolar\": [{\"marker\": {\"line\": {\"color\": \"#E5ECF6\", \"width\": 0.5}}, \"type\": \"barpolar\"}], \"carpet\": [{\"aaxis\": {\"endlinecolor\": \"#2a3f5f\", \"gridcolor\": \"white\", \"linecolor\": \"white\", \"minorgridcolor\": \"white\", \"startlinecolor\": \"#2a3f5f\"}, \"baxis\": {\"endlinecolor\": \"#2a3f5f\", \"gridcolor\": \"white\", \"linecolor\": \"white\", \"minorgridcolor\": \"white\", \"startlinecolor\": \"#2a3f5f\"}, \"type\": \"carpet\"}], \"choropleth\": [{\"colorbar\": {\"outlinewidth\": 0, \"ticks\": \"\"}, \"type\": \"choropleth\"}], \"contour\": [{\"colorbar\": {\"outlinewidth\": 0, \"ticks\": \"\"}, \"colorscale\": [[0.0, \"#0d0887\"], [0.1111111111111111, \"#46039f\"], [0.2222222222222222, \"#7201a8\"], [0.3333333333333333, \"#9c179e\"], [0.4444444444444444, \"#bd3786\"], [0.5555555555555556, \"#d8576b\"], [0.6666666666666666, \"#ed7953\"], [0.7777777777777778, \"#fb9f3a\"], [0.8888888888888888, \"#fdca26\"], [1.0, \"#f0f921\"]], \"type\": \"contour\"}], \"contourcarpet\": [{\"colorbar\": {\"outlinewidth\": 0, \"ticks\": \"\"}, \"type\": \"contourcarpet\"}], \"heatmap\": [{\"colorbar\": {\"outlinewidth\": 0, \"ticks\": \"\"}, \"colorscale\": [[0.0, \"#0d0887\"], [0.1111111111111111, \"#46039f\"], [0.2222222222222222, \"#7201a8\"], [0.3333333333333333, \"#9c179e\"], [0.4444444444444444, \"#bd3786\"], [0.5555555555555556, \"#d8576b\"], [0.6666666666666666, \"#ed7953\"], [0.7777777777777778, \"#fb9f3a\"], [0.8888888888888888, \"#fdca26\"], [1.0, \"#f0f921\"]], \"type\": \"heatmap\"}], \"heatmapgl\": [{\"colorbar\": {\"outlinewidth\": 0, \"ticks\": \"\"}, \"colorscale\": [[0.0, \"#0d0887\"], [0.1111111111111111, \"#46039f\"], [0.2222222222222222, \"#7201a8\"], [0.3333333333333333, \"#9c179e\"], [0.4444444444444444, \"#bd3786\"], [0.5555555555555556, \"#d8576b\"], [0.6666666666666666, \"#ed7953\"], [0.7777777777777778, \"#fb9f3a\"], [0.8888888888888888, \"#fdca26\"], [1.0, \"#f0f921\"]], \"type\": \"heatmapgl\"}], \"histogram\": [{\"marker\": {\"colorbar\": {\"outlinewidth\": 0, \"ticks\": \"\"}}, \"type\": \"histogram\"}], \"histogram2d\": [{\"colorbar\": {\"outlinewidth\": 0, \"ticks\": \"\"}, \"colorscale\": [[0.0, \"#0d0887\"], [0.1111111111111111, \"#46039f\"], [0.2222222222222222, \"#7201a8\"], [0.3333333333333333, \"#9c179e\"], [0.4444444444444444, \"#bd3786\"], [0.5555555555555556, \"#d8576b\"], [0.6666666666666666, \"#ed7953\"], [0.7777777777777778, \"#fb9f3a\"], [0.8888888888888888, \"#fdca26\"], [1.0, \"#f0f921\"]], \"type\": \"histogram2d\"}], \"histogram2dcontour\": [{\"colorbar\": {\"outlinewidth\": 0, \"ticks\": \"\"}, \"colorscale\": [[0.0, \"#0d0887\"], [0.1111111111111111, \"#46039f\"], [0.2222222222222222, \"#7201a8\"], [0.3333333333333333, \"#9c179e\"], [0.4444444444444444, \"#bd3786\"], [0.5555555555555556, \"#d8576b\"], [0.6666666666666666, \"#ed7953\"], [0.7777777777777778, \"#fb9f3a\"], [0.8888888888888888, \"#fdca26\"], [1.0, \"#f0f921\"]], \"type\": \"histogram2dcontour\"}], \"mesh3d\": [{\"colorbar\": {\"outlinewidth\": 0, \"ticks\": \"\"}, \"type\": \"mesh3d\"}], \"parcoords\": [{\"line\": {\"colorbar\": {\"outlinewidth\": 0, \"ticks\": \"\"}}, \"type\": \"parcoords\"}], \"pie\": [{\"automargin\": true, \"type\": \"pie\"}], \"scatter\": [{\"marker\": {\"colorbar\": {\"outlinewidth\": 0, \"ticks\": \"\"}}, \"type\": \"scatter\"}], \"scatter3d\": [{\"line\": {\"colorbar\": {\"outlinewidth\": 0, \"ticks\": \"\"}}, \"marker\": {\"colorbar\": {\"outlinewidth\": 0, \"ticks\": \"\"}}, \"type\": \"scatter3d\"}], \"scattercarpet\": [{\"marker\": {\"colorbar\": {\"outlinewidth\": 0, \"ticks\": \"\"}}, \"type\": \"scattercarpet\"}], \"scattergeo\": [{\"marker\": {\"colorbar\": {\"outlinewidth\": 0, \"ticks\": \"\"}}, \"type\": \"scattergeo\"}], \"scattergl\": [{\"marker\": {\"colorbar\": {\"outlinewidth\": 0, \"ticks\": \"\"}}, \"type\": \"scattergl\"}], \"scattermapbox\": [{\"marker\": {\"colorbar\": {\"outlinewidth\": 0, \"ticks\": \"\"}}, \"type\": \"scattermapbox\"}], \"scatterpolar\": [{\"marker\": {\"colorbar\": {\"outlinewidth\": 0, \"ticks\": \"\"}}, \"type\": \"scatterpolar\"}], \"scatterpolargl\": [{\"marker\": {\"colorbar\": {\"outlinewidth\": 0, \"ticks\": \"\"}}, \"type\": \"scatterpolargl\"}], \"scatterternary\": [{\"marker\": {\"colorbar\": {\"outlinewidth\": 0, \"ticks\": \"\"}}, \"type\": \"scatterternary\"}], \"surface\": [{\"colorbar\": {\"outlinewidth\": 0, \"ticks\": \"\"}, \"colorscale\": [[0.0, \"#0d0887\"], [0.1111111111111111, \"#46039f\"], [0.2222222222222222, \"#7201a8\"], [0.3333333333333333, \"#9c179e\"], [0.4444444444444444, \"#bd3786\"], [0.5555555555555556, \"#d8576b\"], [0.6666666666666666, \"#ed7953\"], [0.7777777777777778, \"#fb9f3a\"], [0.8888888888888888, \"#fdca26\"], [1.0, \"#f0f921\"]], \"type\": \"surface\"}], \"table\": [{\"cells\": {\"fill\": {\"color\": \"#EBF0F8\"}, \"line\": {\"color\": \"white\"}}, \"header\": {\"fill\": {\"color\": \"#C8D4E3\"}, \"line\": {\"color\": \"white\"}}, \"type\": \"table\"}]}, \"layout\": {\"annotationdefaults\": {\"arrowcolor\": \"#2a3f5f\", \"arrowhead\": 0, \"arrowwidth\": 1}, \"autotypenumbers\": \"strict\", \"coloraxis\": {\"colorbar\": {\"outlinewidth\": 0, \"ticks\": \"\"}}, \"colorscale\": {\"diverging\": [[0, \"#8e0152\"], [0.1, \"#c51b7d\"], [0.2, \"#de77ae\"], [0.3, \"#f1b6da\"], [0.4, \"#fde0ef\"], [0.5, \"#f7f7f7\"], [0.6, \"#e6f5d0\"], [0.7, \"#b8e186\"], [0.8, \"#7fbc41\"], [0.9, \"#4d9221\"], [1, \"#276419\"]], \"sequential\": [[0.0, \"#0d0887\"], [0.1111111111111111, \"#46039f\"], [0.2222222222222222, \"#7201a8\"], [0.3333333333333333, \"#9c179e\"], [0.4444444444444444, \"#bd3786\"], [0.5555555555555556, \"#d8576b\"], [0.6666666666666666, \"#ed7953\"], [0.7777777777777778, \"#fb9f3a\"], [0.8888888888888888, \"#fdca26\"], [1.0, \"#f0f921\"]], \"sequentialminus\": [[0.0, \"#0d0887\"], [0.1111111111111111, \"#46039f\"], [0.2222222222222222, \"#7201a8\"], [0.3333333333333333, \"#9c179e\"], [0.4444444444444444, \"#bd3786\"], [0.5555555555555556, \"#d8576b\"], [0.6666666666666666, \"#ed7953\"], [0.7777777777777778, \"#fb9f3a\"], [0.8888888888888888, \"#fdca26\"], [1.0, \"#f0f921\"]]}, \"colorway\": [\"#636efa\", \"#EF553B\", \"#00cc96\", \"#ab63fa\", \"#FFA15A\", \"#19d3f3\", \"#FF6692\", \"#B6E880\", \"#FF97FF\", \"#FECB52\"], \"font\": {\"color\": \"#2a3f5f\"}, \"geo\": {\"bgcolor\": \"white\", \"lakecolor\": \"white\", \"landcolor\": \"#E5ECF6\", \"showlakes\": true, \"showland\": true, \"subunitcolor\": \"white\"}, \"hoverlabel\": {\"align\": \"left\"}, \"hovermode\": \"closest\", \"mapbox\": {\"style\": \"light\"}, \"paper_bgcolor\": \"white\", \"plot_bgcolor\": \"#E5ECF6\", \"polar\": {\"angularaxis\": {\"gridcolor\": \"white\", \"linecolor\": \"white\", \"ticks\": \"\"}, \"bgcolor\": \"#E5ECF6\", \"radialaxis\": {\"gridcolor\": \"white\", \"linecolor\": \"white\", \"ticks\": \"\"}}, \"scene\": {\"xaxis\": {\"backgroundcolor\": \"#E5ECF6\", \"gridcolor\": \"white\", \"gridwidth\": 2, \"linecolor\": \"white\", \"showbackground\": true, \"ticks\": \"\", \"zerolinecolor\": \"white\"}, \"yaxis\": {\"backgroundcolor\": \"#E5ECF6\", \"gridcolor\": \"white\", \"gridwidth\": 2, \"linecolor\": \"white\", \"showbackground\": true, \"ticks\": \"\", \"zerolinecolor\": \"white\"}, \"zaxis\": {\"backgroundcolor\": \"#E5ECF6\", \"gridcolor\": \"white\", \"gridwidth\": 2, \"linecolor\": \"white\", \"showbackground\": true, \"ticks\": \"\", \"zerolinecolor\": \"white\"}}, \"shapedefaults\": {\"line\": {\"color\": \"#2a3f5f\"}}, \"ternary\": {\"aaxis\": {\"gridcolor\": \"white\", \"linecolor\": \"white\", \"ticks\": \"\"}, \"baxis\": {\"gridcolor\": \"white\", \"linecolor\": \"white\", \"ticks\": \"\"}, \"bgcolor\": \"#E5ECF6\", \"caxis\": {\"gridcolor\": \"white\", \"linecolor\": \"white\", \"ticks\": \"\"}}, \"title\": {\"x\": 0.05}, \"xaxis\": {\"automargin\": true, \"gridcolor\": \"white\", \"linecolor\": \"white\", \"ticks\": \"\", \"title\": {\"standoff\": 15}, \"zerolinecolor\": \"white\", \"zerolinewidth\": 2}, \"yaxis\": {\"automargin\": true, \"gridcolor\": \"white\", \"linecolor\": \"white\", \"ticks\": \"\", \"title\": {\"standoff\": 15}, \"zerolinecolor\": \"white\", \"zerolinewidth\": 2}}}, \"xaxis\": {\"rangeslider\": {\"visible\": false}}},                        {\"responsive\": true}                    ).then(function(){\n",
       "                            \n",
       "var gd = document.getElementById('361909d1-d56a-4be3-acfb-960661b2bbce');\n",
       "var x = new MutationObserver(function (mutations, observer) {{\n",
       "        var display = window.getComputedStyle(gd).display;\n",
       "        if (!display || display === 'none') {{\n",
       "            console.log([gd, 'removed!']);\n",
       "            Plotly.purge(gd);\n",
       "            observer.disconnect();\n",
       "        }}\n",
       "}});\n",
       "\n",
       "// Listen for the removal of the full notebook cells\n",
       "var notebookContainer = gd.closest('#notebook-container');\n",
       "if (notebookContainer) {{\n",
       "    x.observe(notebookContainer, {childList: true});\n",
       "}}\n",
       "\n",
       "// Listen for the clearing of the current output cell\n",
       "var outputEl = gd.closest('.output');\n",
       "if (outputEl) {{\n",
       "    x.observe(outputEl, {childList: true});\n",
       "}}\n",
       "\n",
       "                        })                };                });            </script>        </div>"
      ]
     },
     "metadata": {},
     "output_type": "display_data"
    }
   ],
   "source": [
    "fig.update_layout(xaxis_rangeslider_visible=False)\n",
    "\n",
    "fig.show()"
   ]
  },
  {
   "cell_type": "code",
   "execution_count": null,
   "metadata": {},
   "outputs": [],
   "source": []
  }
 ],
 "metadata": {
  "kernelspec": {
   "display_name": "Python",
   "language": "python",
   "name": "conda-env-python-py"
  },
  "language_info": {
   "codemirror_mode": {
    "name": "ipython",
    "version": 3
   },
   "file_extension": ".py",
   "mimetype": "text/x-python",
   "name": "python",
   "nbconvert_exporter": "python",
   "pygments_lexer": "ipython3",
   "version": "3.6.12"
  }
 },
 "nbformat": 4,
 "nbformat_minor": 4
}
